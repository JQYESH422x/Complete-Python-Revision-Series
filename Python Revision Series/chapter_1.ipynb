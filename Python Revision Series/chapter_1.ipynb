{
 "cells": [
  {
   "cell_type": "code",
   "execution_count": 1,
   "id": "3027cbb6-35e0-4a2b-9b63-b3bce1aa0b8e",
   "metadata": {},
   "outputs": [
    {
     "name": "stdout",
     "output_type": "stream",
     "text": [
      "Collecting djangoNote: you may need to restart the kernel to use updated packages.\n",
      "\n",
      "  Downloading Django-5.1.1-py3-none-any.whl.metadata (4.2 kB)\n",
      "Collecting asgiref<4,>=3.8.1 (from django)\n",
      "  Downloading asgiref-3.8.1-py3-none-any.whl.metadata (9.3 kB)\n",
      "Collecting sqlparse>=0.3.1 (from django)\n",
      "  Downloading sqlparse-0.5.1-py3-none-any.whl.metadata (3.9 kB)\n",
      "Requirement already satisfied: tzdata in c:\\users\\jayes\\anaconda3\\lib\\site-packages (from django) (2023.3)\n",
      "Downloading Django-5.1.1-py3-none-any.whl (8.2 MB)\n",
      "   ---------------------------------------- 0.0/8.2 MB ? eta -:--:--\n",
      "   ---------------------------------------- 0.0/8.2 MB 660.6 kB/s eta 0:00:13\n",
      "    --------------------------------------- 0.2/8.2 MB 2.2 MB/s eta 0:00:04\n",
      "   -- ------------------------------------- 0.5/8.2 MB 3.8 MB/s eta 0:00:03\n",
      "   --- ------------------------------------ 0.7/8.2 MB 4.2 MB/s eta 0:00:02\n",
      "   ---- ----------------------------------- 1.0/8.2 MB 4.3 MB/s eta 0:00:02\n",
      "   ----- ---------------------------------- 1.1/8.2 MB 4.2 MB/s eta 0:00:02\n",
      "   ------ --------------------------------- 1.4/8.2 MB 4.3 MB/s eta 0:00:02\n",
      "   ------- -------------------------------- 1.6/8.2 MB 4.3 MB/s eta 0:00:02\n",
      "   -------- ------------------------------- 1.7/8.2 MB 4.1 MB/s eta 0:00:02\n",
      "   --------- ------------------------------ 1.9/8.2 MB 4.1 MB/s eta 0:00:02\n",
      "   ---------- ----------------------------- 2.1/8.2 MB 4.1 MB/s eta 0:00:02\n",
      "   ---------- ----------------------------- 2.2/8.2 MB 4.0 MB/s eta 0:00:02\n",
      "   ----------- ---------------------------- 2.3/8.2 MB 3.9 MB/s eta 0:00:02\n",
      "   ------------ --------------------------- 2.5/8.2 MB 3.9 MB/s eta 0:00:02\n",
      "   ------------ --------------------------- 2.6/8.2 MB 3.8 MB/s eta 0:00:02\n",
      "   ------------- -------------------------- 2.8/8.2 MB 3.9 MB/s eta 0:00:02\n",
      "   -------------- ------------------------- 3.0/8.2 MB 3.8 MB/s eta 0:00:02\n",
      "   --------------- ------------------------ 3.2/8.2 MB 3.9 MB/s eta 0:00:02\n",
      "   ---------------- ----------------------- 3.3/8.2 MB 3.8 MB/s eta 0:00:02\n",
      "   ---------------- ----------------------- 3.4/8.2 MB 3.7 MB/s eta 0:00:02\n",
      "   ----------------- ---------------------- 3.7/8.2 MB 3.8 MB/s eta 0:00:02\n",
      "   ----------------- ---------------------- 3.7/8.2 MB 3.7 MB/s eta 0:00:02\n",
      "   ------------------ --------------------- 3.8/8.2 MB 3.7 MB/s eta 0:00:02\n",
      "   ------------------ --------------------- 3.8/8.2 MB 3.5 MB/s eta 0:00:02\n",
      "   ------------------ --------------------- 3.8/8.2 MB 3.5 MB/s eta 0:00:02\n",
      "   ------------------ --------------------- 3.8/8.2 MB 3.5 MB/s eta 0:00:02\n",
      "   ------------------ --------------------- 3.8/8.2 MB 3.5 MB/s eta 0:00:02\n",
      "   ------------------ --------------------- 3.8/8.2 MB 3.5 MB/s eta 0:00:02\n",
      "   -------------------- ------------------- 4.2/8.2 MB 3.1 MB/s eta 0:00:02\n",
      "   --------------------- ------------------ 4.4/8.2 MB 3.1 MB/s eta 0:00:02\n",
      "   ---------------------- ----------------- 4.7/8.2 MB 3.2 MB/s eta 0:00:02\n",
      "   ----------------------- ---------------- 4.9/8.2 MB 3.3 MB/s eta 0:00:01\n",
      "   ------------------------ --------------- 5.1/8.2 MB 3.3 MB/s eta 0:00:01\n",
      "   ------------------------- -------------- 5.3/8.2 MB 3.4 MB/s eta 0:00:01\n",
      "   --------------------------- ------------ 5.6/8.2 MB 3.4 MB/s eta 0:00:01\n",
      "   --------------------------- ------------ 5.7/8.2 MB 3.4 MB/s eta 0:00:01\n",
      "   ---------------------------- ----------- 5.9/8.2 MB 3.4 MB/s eta 0:00:01\n",
      "   ----------------------------- ---------- 6.0/8.2 MB 3.4 MB/s eta 0:00:01\n",
      "   ----------------------------- ---------- 6.1/8.2 MB 3.4 MB/s eta 0:00:01\n",
      "   ------------------------------ --------- 6.2/8.2 MB 3.3 MB/s eta 0:00:01\n",
      "   ------------------------------ --------- 6.3/8.2 MB 3.3 MB/s eta 0:00:01\n",
      "   ------------------------------- -------- 6.4/8.2 MB 3.3 MB/s eta 0:00:01\n",
      "   ------------------------------- -------- 6.6/8.2 MB 3.3 MB/s eta 0:00:01\n",
      "   -------------------------------- ------- 6.8/8.2 MB 3.3 MB/s eta 0:00:01\n",
      "   --------------------------------- ------ 6.8/8.2 MB 3.3 MB/s eta 0:00:01\n",
      "   ---------------------------------- ----- 7.0/8.2 MB 3.3 MB/s eta 0:00:01\n",
      "   ---------------------------------- ----- 7.1/8.2 MB 3.3 MB/s eta 0:00:01\n",
      "   ----------------------------------- ---- 7.3/8.2 MB 3.3 MB/s eta 0:00:01\n",
      "   ------------------------------------ --- 7.5/8.2 MB 3.3 MB/s eta 0:00:01\n",
      "   ------------------------------------ --- 7.6/8.2 MB 3.3 MB/s eta 0:00:01\n",
      "   ------------------------------------- -- 7.8/8.2 MB 3.3 MB/s eta 0:00:01\n",
      "   -------------------------------------- - 7.9/8.2 MB 3.3 MB/s eta 0:00:01\n",
      "   ---------------------------------------  8.1/8.2 MB 3.3 MB/s eta 0:00:01\n",
      "   ---------------------------------------  8.2/8.2 MB 3.3 MB/s eta 0:00:01\n",
      "   ---------------------------------------- 8.2/8.2 MB 3.2 MB/s eta 0:00:00\n",
      "Downloading asgiref-3.8.1-py3-none-any.whl (23 kB)\n",
      "Downloading sqlparse-0.5.1-py3-none-any.whl (44 kB)\n",
      "   ---------------------------------------- 0.0/44.2 kB ? eta -:--:--\n",
      "   ---------------------------------------- 44.2/44.2 kB ? eta 0:00:00\n",
      "Installing collected packages: sqlparse, asgiref, django\n",
      "Successfully installed asgiref-3.8.1 django-5.1.1 sqlparse-0.5.1\n"
     ]
    }
   ],
   "source": [
    "pip install django"
   ]
  },
  {
   "cell_type": "code",
   "execution_count": 2,
   "id": "77fbd5b9-597f-4fd9-9610-3df2421a58d9",
   "metadata": {},
   "outputs": [
    {
     "name": "stdout",
     "output_type": "stream",
     "text": [
      "Collecting pyjokes\n",
      "  Downloading pyjokes-0.8.3-py3-none-any.whl.metadata (3.4 kB)\n",
      "Downloading pyjokes-0.8.3-py3-none-any.whl (47 kB)\n",
      "   ---------------------------------------- 0.0/47.6 kB ? eta -:--:--\n",
      "   -------- ------------------------------- 10.2/47.6 kB ? eta -:--:--\n",
      "   ------------------------- -------------- 30.7/47.6 kB 435.7 kB/s eta 0:00:01\n",
      "   ---------------------------------------- 47.6/47.6 kB 592.4 kB/s eta 0:00:00\n",
      "Installing collected packages: pyjokes\n",
      "Successfully installed pyjokes-0.8.3\n",
      "Note: you may need to restart the kernel to use updated packages.\n"
     ]
    }
   ],
   "source": [
    "pip install pyjokes"
   ]
  },
  {
   "cell_type": "code",
   "execution_count": 8,
   "id": "6bab91aa-d69f-463a-ac67-1d9c94dc84fc",
   "metadata": {},
   "outputs": [
    {
     "name": "stdout",
     "output_type": "stream",
     "text": [
      "Printing Joke.......\n",
      "The computer is mightier than the pen, the sword, and usually, the programmer\n"
     ]
    }
   ],
   "source": [
    "import pyjokes \n",
    "print(\"Printing Joke.......\")\n",
    "# This print a random joke \n",
    "joke = pyjokes.get_joke()\n",
    "print(joke)"
   ]
  },
  {
   "cell_type": "code",
   "execution_count": null,
   "id": "e45e7116-17e1-4f29-acb4-fa18a00b5da2",
   "metadata": {},
   "outputs": [],
   "source": [
    " "
   ]
  }
 ],
 "metadata": {
  "kernelspec": {
   "display_name": "Python 3 (ipykernel)",
   "language": "python",
   "name": "python3"
  },
  "language_info": {
   "codemirror_mode": {
    "name": "ipython",
    "version": 3
   },
   "file_extension": ".py",
   "mimetype": "text/x-python",
   "name": "python",
   "nbconvert_exporter": "python",
   "pygments_lexer": "ipython3",
   "version": "3.12.4"
  }
 },
 "nbformat": 4,
 "nbformat_minor": 5
}
