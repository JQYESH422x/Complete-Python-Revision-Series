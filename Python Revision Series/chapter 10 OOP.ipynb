{
 "cells": [
  {
   "cell_type": "markdown",
   "id": "88377ffc-c0fd-48b9-aea4-97a2bfe952cf",
   "metadata": {},
   "source": [
    "### Classes and Objects\n",
    "Class: A blueprint for creating objects (a particular data structure).\n",
    "\n",
    "Object: An instance of a class."
   ]
  },
  {
   "cell_type": "code",
   "execution_count": 3,
   "id": "3e4e436b-3656-4d21-bf1d-f279f43ff8a0",
   "metadata": {},
   "outputs": [
    {
     "name": "stdout",
     "output_type": "stream",
     "text": [
      "Jayesh Nikumbh py 1400000\n"
     ]
    }
   ],
   "source": [
    "class employee:\n",
    "    language = 'py' # this is class attribute\n",
    "    salary = 1400000\n",
    "\n",
    "jayesh=employee()\n",
    "jayesh.name = 'Jayesh Nikumbh' # this is instance attribute\n",
    "print(jayesh.name,jayesh.language , jayesh.salary)"
   ]
  },
  {
   "cell_type": "markdown",
   "id": "344d5307-dc81-4fcd-a580-2881f5983250",
   "metadata": {},
   "source": [
    "### instance vs class attribute"
   ]
  },
  {
   "cell_type": "code",
   "execution_count": 11,
   "id": "02fc46b4-d5aa-454e-a80b-d984422012b2",
   "metadata": {},
   "outputs": [
    {
     "name": "stdout",
     "output_type": "stream",
     "text": [
      "javascript 140000\n"
     ]
    }
   ],
   "source": [
    "class employee:\n",
    "    language = 'py' # this is class attribute\n",
    "    salary = 140000\n",
    "    \n",
    "jayesh=employee()\n",
    "jayesh.language = 'javascript' # this is instance attribute it takes preference over class attribute\n",
    "print(jayesh.language , jayesh.salary)"
   ]
  },
  {
   "cell_type": "markdown",
   "id": "97d5a68f-a25f-46cf-98f7-3202ce572079",
   "metadata": {},
   "source": [
    "### Self"
   ]
  },
  {
   "cell_type": "code",
   "execution_count": 12,
   "id": "6c6202e9-e7ae-4b83-b1fa-99866dcb977c",
   "metadata": {},
   "outputs": [
    {
     "name": "stdout",
     "output_type": "stream",
     "text": [
      "javascript 1400000\n",
      "The language is javascript. The salary is 1400000\n",
      "Good Morning!\n"
     ]
    }
   ],
   "source": [
    "class employee:\n",
    "    language = 'py' # this is class attribute\n",
    "    salary = 1400000\n",
    "\n",
    "    def getInfo(self):\n",
    "        print(f'The language is {self.language}. The salary is {self.salary}')\n",
    "\n",
    "    def greet(self):\n",
    "        print(\"Good Morning!\")\n",
    "        \n",
    "jayesh=employee()\n",
    "jayesh.language = 'javascript' # this is instance attribute it takes preference over class attribute\n",
    "print(jayesh.language , jayesh.salary)\n",
    "jayesh.getInfo() #employee.getInfo(jayesh)\n",
    "jayesh.greet()"
   ]
  },
  {
   "cell_type": "markdown",
   "id": "15bcf28e-003f-4a3c-b7c1-110c31e37319",
   "metadata": {},
   "source": [
    "### Static method"
   ]
  },
  {
   "cell_type": "code",
   "execution_count": 13,
   "id": "da4615a0-5e89-4e30-b8be-07bfff8efa08",
   "metadata": {},
   "outputs": [
    {
     "name": "stdout",
     "output_type": "stream",
     "text": [
      "javascript 1400000\n",
      "The language is javascript. The salary is 1400000\n",
      "Good Morning!\n"
     ]
    }
   ],
   "source": [
    "class employee:\n",
    "    language = 'py' # this is class attribute\n",
    "    salary = 1400000\n",
    "\n",
    "    def getInfo(self):\n",
    "        print(f'The language is {self.language}. The salary is {self.salary}')\n",
    "\n",
    "    @staticmethod\n",
    "    def greet():\n",
    "        print(\"Good Morning!\")\n",
    "        \n",
    "jayesh=employee()\n",
    "jayesh.language = 'javascript' # this is instance attribute it takes preference over class attribute\n",
    "print(jayesh.language , jayesh.salary)\n",
    "jayesh.getInfo() #employee.getInfo(jayesh)\n",
    "jayesh.greet()"
   ]
  },
  {
   "cell_type": "markdown",
   "id": "b7fe14df-8904-4742-aa25-ba473d92404e",
   "metadata": {},
   "source": [
    "### init method (Constructors)"
   ]
  },
  {
   "cell_type": "code",
   "execution_count": 19,
   "id": "56ba2fca-2857-4719-abc7-2841f5048646",
   "metadata": {},
   "outputs": [
    {
     "name": "stdout",
     "output_type": "stream",
     "text": [
      "I am creating the object.\n",
      "harry javascript 1300000\n",
      "The language is javascript. The salary is 1300000\n"
     ]
    }
   ],
   "source": [
    "class employee:\n",
    "    language = 'py' # this is class attribute\n",
    "    salary = 1400000\n",
    "\n",
    "    def __init__(self,name,language,salary): #dunder method which is automatically called\n",
    "        self.name=name\n",
    "        self.language=language\n",
    "        self.salary=salary \n",
    "        print('I am creating the object.')\n",
    "        \n",
    "    def getInfo(self):\n",
    "        print(f'The language is {self.language}. The salary is {self.salary}')\n",
    "\n",
    "    @staticmethod\n",
    "    def greet():\n",
    "        print(\"Good Morning!\")\n",
    "\n",
    "harry=employee('harry','javascript',1300000)\n",
    "# harry.name='Harry'\n",
    "print(harry.name , harry.language ,harry.salary)\n",
    "harry.getInfo()"
   ]
  },
  {
   "cell_type": "code",
   "execution_count": 20,
   "id": "52ab741d-8d4c-4b01-8926-f93fc424f28b",
   "metadata": {},
   "outputs": [],
   "source": [
    "class Car:\n",
    "    def __init__(self,brand,model,year):\n",
    "        self.brand = brand \n",
    "        self.model = model\n",
    "        self.year = year\n",
    "\n",
    "    def display_info(self):\n",
    "        print(f'{self.brand} {self.model} {self.year}')"
   ]
  },
  {
   "cell_type": "code",
   "execution_count": 21,
   "id": "3ce9d6e0-2c07-454b-b599-0a81b131d528",
   "metadata": {},
   "outputs": [
    {
     "name": "stdout",
     "output_type": "stream",
     "text": [
      "Mahindra Thar 2020\n"
     ]
    }
   ],
   "source": [
    "my_car = Car('Mahindra' , 'Thar' , 2020)\n",
    "my_car.display_info()"
   ]
  },
  {
   "cell_type": "markdown",
   "id": "8ad486b3-b057-44f3-93de-9188fe7ba7c5",
   "metadata": {},
   "source": [
    "### Create a class “Programmer” for storing information of few programmers working at Microsoft."
   ]
  },
  {
   "cell_type": "code",
   "execution_count": 31,
   "id": "9e61f680-be91-476e-aa29-1e91d7d88274",
   "metadata": {},
   "outputs": [
    {
     "name": "stdout",
     "output_type": "stream",
     "text": [
      "Object is created\n",
      "------------------------------------------------------------\n",
      "Employee Name: jayesh\n",
      "Employee Language: py\n",
      "Employee Salary: 1400000\n",
      "------------------------------------------------------------\n",
      "Object is created\n",
      "------------------------------------------------------------\n",
      "Employee Name: harry\n",
      "Employee Language: js\n",
      "Employee Salary: 900000\n",
      "------------------------------------------------------------\n"
     ]
    }
   ],
   "source": [
    "class Programmer:\n",
    "    company='Microsoft'\n",
    "    \n",
    "    def __init__(self,name,language,salary):\n",
    "        print('Object is created')\n",
    "        print('-'*60)\n",
    "        self.name=name\n",
    "        self.language=language\n",
    "        self.salary=salary\n",
    "        \n",
    "    def getInfo(self):\n",
    "        print(f'Employee Name: {self.name}\\nEmployee Language: {self.language}\\nEmployee Salary: {self.salary}')\n",
    "        print('-'*60)\n",
    "\n",
    "ob1=Programmer('jayesh','py',1400000)\n",
    "ob1.getInfo()\n",
    "ob2=Programmer('harry','js',900000)\n",
    "ob2.getInfo()"
   ]
  },
  {
   "cell_type": "markdown",
   "id": "e06f78a6-aaf3-40fd-9fb9-5addca19d4c8",
   "metadata": {},
   "source": [
    "### Write a class “Calculator” capable of finding square, cube and square root of anumber.\n"
   ]
  },
  {
   "cell_type": "code",
   "execution_count": 35,
   "id": "336a2db8-0d9b-4767-9499-5f903c2497c4",
   "metadata": {},
   "outputs": [],
   "source": [
    "class Calculator:\n",
    "    def __init__(self,n):\n",
    "        print(\"Object is created\")\n",
    "        self.n=n\n",
    "\n",
    "    def square(self):\n",
    "        return self.n**2\n",
    "    def cube(self):\n",
    "        return self.n**3\n",
    "    def square_root(self):\n",
    "        return self.n**0.5\n"
   ]
  },
  {
   "cell_type": "code",
   "execution_count": 37,
   "id": "06a81865-0809-40e9-93f9-37e672141f18",
   "metadata": {},
   "outputs": [
    {
     "name": "stdout",
     "output_type": "stream",
     "text": [
      "Object is created\n",
      "25\n",
      "125\n",
      "2.23606797749979\n"
     ]
    }
   ],
   "source": [
    "o=Calculator(5)\n",
    "print(o.square())\n",
    "print(o.cube())\n",
    "print(o.square_root())\n",
    "    "
   ]
  },
  {
   "cell_type": "markdown",
   "id": "23f6f82d-509e-4f1e-961e-c7b202487770",
   "metadata": {},
   "source": [
    "### Create a class with a class attribute a; create an object from it and set ‘a’ directly using ‘object.a = 0’. Does this change the class attribute?"
   ]
  },
  {
   "cell_type": "code",
   "execution_count": 42,
   "id": "7dc34d5b-561b-4991-b2aa-9f918604ade7",
   "metadata": {},
   "outputs": [
    {
     "name": "stdout",
     "output_type": "stream",
     "text": [
      "4\n",
      "0\n",
      "4\n"
     ]
    }
   ],
   "source": [
    "class demo:\n",
    "    a=4\n",
    "\n",
    "o=demo() #prints the class attribute as instance attribute is not set\n",
    "print(o.a)\n",
    "o.a=0 #instance attribute is set\n",
    "print(o.a) #print instance attribute as instance attribute is set \n",
    "\n",
    "print(demo.a) #prints the class attribute"
   ]
  },
  {
   "cell_type": "markdown",
   "id": "89879192-ccf1-4916-abcc-3958e422095f",
   "metadata": {},
   "source": [
    "### Add a static method in problem 2, to greet the user with hello.\n"
   ]
  },
  {
   "cell_type": "code",
   "execution_count": 43,
   "id": "434205ee-b8f7-4034-805e-5c88b7f20df6",
   "metadata": {},
   "outputs": [],
   "source": [
    "class Calculator:\n",
    "    def __init__(self,n):\n",
    "        print(\"Object is created\")\n",
    "        self.n=n\n",
    "\n",
    "    def square(self):\n",
    "        return self.n**2\n",
    "    def cube(self):\n",
    "        return self.n**3\n",
    "    def square_root(self):\n",
    "        return self.n**0.5\n",
    "    @staticmethod\n",
    "    def greet():\n",
    "        print('Hello there !')"
   ]
  },
  {
   "cell_type": "code",
   "execution_count": 46,
   "id": "900ec328-c15a-4e1c-8d65-b4ffc4b966cd",
   "metadata": {},
   "outputs": [
    {
     "name": "stdout",
     "output_type": "stream",
     "text": [
      "Object is created\n",
      "Hello there !\n",
      "25\n",
      "125\n",
      "2.23606797749979\n"
     ]
    }
   ],
   "source": [
    "o=Calculator(5)\n",
    "o.greet()\n",
    "print(o.square())\n",
    "print(o.cube())\n",
    "print(o.square_root())\n"
   ]
  },
  {
   "cell_type": "markdown",
   "id": "fce2a132-0352-48ed-8915-e0c1e0c2d319",
   "metadata": {},
   "source": [
    "### Write a Class ‘Train’ which has methods to book a ticket, get status (no of seats) and get fare information of train running under Indian Railways"
   ]
  },
  {
   "cell_type": "code",
   "execution_count": 51,
   "id": "a9bafad1-ceed-43a3-9d86-9421b8f81688",
   "metadata": {},
   "outputs": [],
   "source": [
    "from random import randint\n",
    "class Train:\n",
    "    def __init__(self,trainNo):\n",
    "        self.trainNo=trainNo\n",
    "        \n",
    "    def book(self,fro,to):\n",
    "        print(f'Ticket is booked in train no : {self.trainNo} from {fro} to {to}')\n",
    "        \n",
    "    def get_status(self,trainNo):\n",
    "        print(f'train no : {self.trainNo} is running on time')\n",
    "        \n",
    "    def get_fare(self,fro,to):\n",
    "        print(f'Ticket fare in train no : {self.trainNo} from {fro} to {to} is {randint(222,5555)}')\n"
   ]
  },
  {
   "cell_type": "code",
   "execution_count": 53,
   "id": "67d08a76-2f1a-4ab9-880a-75ad9fcce8e3",
   "metadata": {},
   "outputs": [
    {
     "name": "stdout",
     "output_type": "stream",
     "text": [
      "Ticket is booked in train no : 12399 from rampur to Mumbai\n",
      "train no : 12399 is running on time\n",
      "Ticket fare in train no : 12399 from rampur to Mumbai is 4647\n"
     ]
    }
   ],
   "source": [
    "o=Train(12399)\n",
    "o.book('rampur','Mumbai')\n",
    "o.get_status(12399)\n",
    "o.get_fare('rampur','Mumbai')"
   ]
  },
  {
   "cell_type": "markdown",
   "id": "4028ad5b-5a2b-49fb-9e16-05cf0cb93d6b",
   "metadata": {},
   "source": [
    "### Can you change the self-parameter inside a class to something else (say “harry”). Try changing self to “slf” or “harry” and see the effects"
   ]
  },
  {
   "cell_type": "code",
   "execution_count": 56,
   "id": "88a425bb-f72e-40ca-adab-43f228384cb4",
   "metadata": {},
   "outputs": [],
   "source": [
    "from random import randint\n",
    "class Train:\n",
    "    def __init__(slf,trainNo):\n",
    "        slf.trainNo=trainNo\n",
    "        \n",
    "    def book(slf,fro,to):\n",
    "        print(f'Ticket is booked in train no : {slf.trainNo} from {fro} to {to}')\n",
    "        \n",
    "    def get_status(slf,trainNo):\n",
    "        print(f'train no : {slf.trainNo} is running on time')\n",
    "        \n",
    "    def get_fare(slf,fro,to):\n",
    "        print(f'Ticket fare in train no : {slf.trainNo} from {fro} to {to} is {randint(222,5555)}')\n"
   ]
  },
  {
   "cell_type": "code",
   "execution_count": 57,
   "id": "780243b3-306a-49cf-ac29-e5d77c5e4c9f",
   "metadata": {},
   "outputs": [
    {
     "name": "stdout",
     "output_type": "stream",
     "text": [
      "Ticket is booked in train no : 12399 from rampur to Mumbai\n",
      "train no : 12399 is running on time\n",
      "Ticket fare in train no : 12399 from rampur to Mumbai is 1835\n"
     ]
    }
   ],
   "source": [
    "o=Train(12399)\n",
    "o.book('rampur','Mumbai')\n",
    "o.get_status(12399)\n",
    "o.get_fare('rampur','Mumbai')"
   ]
  }
 ],
 "metadata": {
  "kernelspec": {
   "display_name": "Python 3 (ipykernel)",
   "language": "python",
   "name": "python3"
  },
  "language_info": {
   "codemirror_mode": {
    "name": "ipython",
    "version": 3
   },
   "file_extension": ".py",
   "mimetype": "text/x-python",
   "name": "python",
   "nbconvert_exporter": "python",
   "pygments_lexer": "ipython3",
   "version": "3.12.4"
  }
 },
 "nbformat": 4,
 "nbformat_minor": 5
}
