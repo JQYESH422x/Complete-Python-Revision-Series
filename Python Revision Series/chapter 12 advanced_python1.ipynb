{
 "cells": [
  {
   "cell_type": "markdown",
   "id": "fb5dcbb8-9fb0-4463-84c8-c5e55da3a165",
   "metadata": {},
   "source": [
    "### WALRUS OPERATOR "
   ]
  },
  {
   "cell_type": "code",
   "execution_count": 1,
   "id": "9e53fada-711f-4767-aac9-9a3c5d8e6ccb",
   "metadata": {},
   "outputs": [
    {
     "name": "stdout",
     "output_type": "stream",
     "text": [
      "List is too long (5 elements, expected <= 3)\n"
     ]
    }
   ],
   "source": [
    "if (n := len([1, 2, 3, 4, 5])) > 3: \n",
    "    print(f\"List is too long ({n} elements, expected <= 3)\") # Output: List is too long (5 elements, expected <= 3)"
   ]
  },
  {
   "cell_type": "markdown",
   "id": "3d79a627-4735-4fff-9b09-38fd638f5d0a",
   "metadata": {},
   "source": [
    "### TYPES DEFINITIONS IN PYTHON"
   ]
  },
  {
   "cell_type": "code",
   "execution_count": 4,
   "id": "679f402d-5e88-4606-afb8-db1fe19688a7",
   "metadata": {},
   "outputs": [
    {
     "name": "stdout",
     "output_type": "stream",
     "text": [
      "Hello, Alice!\n"
     ]
    }
   ],
   "source": [
    "# Variable type hint\n",
    "age: int = 25\n",
    "# Function type hints\n",
    "def greeting(name: str) -> str:\n",
    "    return f\"Hello, {name}!\"\n",
    "# Usage\n",
    "print(greeting(\"Alice\")) # Output: Hello, Alice!"
   ]
  },
  {
   "cell_type": "markdown",
   "id": "7d1b3a4d-f773-481a-9c54-9634872db1a2",
   "metadata": {},
   "source": [
    "### ADVANCED TYPE HINTS"
   ]
  },
  {
   "cell_type": "code",
   "execution_count": 5,
   "id": "62f6ab8f-f842-40db-bef1-def19d47a238",
   "metadata": {},
   "outputs": [],
   "source": [
    "from typing import List, Union, Tuple \n",
    "\n",
    "n : int = 5\n",
    "\n",
    "name: str = \"Harry\"\n",
    "\n",
    "\n",
    "def  sum(a: int, b: int) -> int:\n",
    "    return a+b"
   ]
  },
  {
   "cell_type": "markdown",
   "id": "6c36c468-7064-43f9-ab74-1da65f73b8ff",
   "metadata": {},
   "source": [
    "### EXCEPTION"
   ]
  },
  {
   "cell_type": "code",
   "execution_count": 6,
   "id": "2cf8b977-cf18-45ff-9a33-8df18dda1f36",
   "metadata": {},
   "outputs": [
    {
     "name": "stdin",
     "output_type": "stream",
     "text": [
      "Hey, Enter a number:  76\n"
     ]
    },
    {
     "name": "stdout",
     "output_type": "stream",
     "text": [
      "76\n",
      "Thank You\n"
     ]
    }
   ],
   "source": [
    "try:\n",
    "    a = int(input(\"Hey, Enter a number: \"))\n",
    "    print(a)\n",
    "\n",
    "except ValueError as v:\n",
    "    print(\"Heyyyy\")\n",
    "    print(v)\n",
    "    \n",
    "except Exception as e:\n",
    "    print(e) \n",
    "\n",
    "print(\"Thank You\")"
   ]
  },
  {
   "cell_type": "markdown",
   "id": "3c9c52ea-93fd-461c-999a-7edd13f2f119",
   "metadata": {},
   "source": [
    "### RAISING EXCEPTION"
   ]
  },
  {
   "cell_type": "code",
   "execution_count": 7,
   "id": "33d8d5fb-e053-49bd-b7ec-3542e38ed6f7",
   "metadata": {},
   "outputs": [
    {
     "name": "stdin",
     "output_type": "stream",
     "text": [
      "Enter a number:  0\n",
      "Enter second number:  0\n"
     ]
    },
    {
     "ename": "ZeroDivisionError",
     "evalue": "Hey our program is not meant to divide numbers by zero",
     "output_type": "error",
     "traceback": [
      "\u001b[1;31m---------------------------------------------------------------------------\u001b[0m",
      "\u001b[1;31mZeroDivisionError\u001b[0m                         Traceback (most recent call last)",
      "Cell \u001b[1;32mIn[7], line 5\u001b[0m\n\u001b[0;32m      2\u001b[0m b \u001b[38;5;241m=\u001b[39m \u001b[38;5;28mint\u001b[39m(\u001b[38;5;28minput\u001b[39m(\u001b[38;5;124m\"\u001b[39m\u001b[38;5;124mEnter second number: \u001b[39m\u001b[38;5;124m\"\u001b[39m))\n\u001b[0;32m      4\u001b[0m \u001b[38;5;28;01mif\u001b[39;00m(b \u001b[38;5;241m==\u001b[39m \u001b[38;5;241m0\u001b[39m):\n\u001b[1;32m----> 5\u001b[0m     \u001b[38;5;28;01mraise\u001b[39;00m \u001b[38;5;167;01mZeroDivisionError\u001b[39;00m(\u001b[38;5;124m\"\u001b[39m\u001b[38;5;124mHey our program is not meant to divide numbers by zero\u001b[39m\u001b[38;5;124m\"\u001b[39m)\n\u001b[0;32m      6\u001b[0m \u001b[38;5;28;01melse\u001b[39;00m:\n\u001b[0;32m      7\u001b[0m     \u001b[38;5;28mprint\u001b[39m(\u001b[38;5;124mf\u001b[39m\u001b[38;5;124m\"\u001b[39m\u001b[38;5;124mThe division a/b is \u001b[39m\u001b[38;5;132;01m{\u001b[39;00ma\u001b[38;5;241m/\u001b[39mb\u001b[38;5;132;01m}\u001b[39;00m\u001b[38;5;124m\"\u001b[39m)\n",
      "\u001b[1;31mZeroDivisionError\u001b[0m: Hey our program is not meant to divide numbers by zero"
     ]
    }
   ],
   "source": [
    "a = int(input(\"Enter a number: \"))\n",
    "b = int(input(\"Enter second number: \"))\n",
    "\n",
    "if(b == 0):\n",
    "    raise ZeroDivisionError(\"Hey our program is not meant to divide numbers by zero\")\n",
    "else:\n",
    "    print(f\"The division a/b is {a/b}\")"
   ]
  },
  {
   "cell_type": "markdown",
   "id": "a6c57c04-f33c-4b2f-a652-afdce5f07ecd",
   "metadata": {},
   "source": [
    "### TRY EXC3EPT ELSE "
   ]
  },
  {
   "cell_type": "code",
   "execution_count": 8,
   "id": "678da363-6ab5-4892-8340-df906a81d4ab",
   "metadata": {},
   "outputs": [
    {
     "name": "stdin",
     "output_type": "stream",
     "text": [
      "Hey, Enter a number:  43\n"
     ]
    },
    {
     "name": "stdout",
     "output_type": "stream",
     "text": [
      "43\n",
      "I am inside else\n"
     ]
    }
   ],
   "source": [
    "try:\n",
    "    a = int(input(\"Hey, Enter a number: \"))\n",
    "    print(a)\n",
    "\n",
    "    \n",
    "except Exception as e:\n",
    "    print(e) \n",
    "\n",
    "\n",
    "else:\n",
    "    print(\"I am inside else\")"
   ]
  },
  {
   "cell_type": "markdown",
   "id": "d546f8e0-3c4e-4062-8b9a-4daf11cd57db",
   "metadata": {},
   "source": [
    "### TRY EXCEPT FINAL"
   ]
  },
  {
   "cell_type": "code",
   "execution_count": 9,
   "id": "5ed54030-7090-4980-a5e2-a8182498449a",
   "metadata": {},
   "outputs": [
    {
     "name": "stdin",
     "output_type": "stream",
     "text": [
      "Hey, Enter a number:  23\n"
     ]
    },
    {
     "name": "stdout",
     "output_type": "stream",
     "text": [
      "23\n",
      "Hey I am inside of finally\n"
     ]
    }
   ],
   "source": [
    "def main():\n",
    "    try:\n",
    "        a = int(input(\"Hey, Enter a number: \"))\n",
    "        print(a)\n",
    "        return\n",
    "\n",
    "        \n",
    "    except Exception as e:\n",
    "        print(e) \n",
    "        return\n",
    "\n",
    "\n",
    "    finally:\n",
    "        print(\"Hey I am inside of finally\")\n",
    "\n",
    "\n",
    "main()"
   ]
  },
  {
   "cell_type": "markdown",
   "id": "4ac7b94f-4353-4bf0-8d89-b7dae01de5b2",
   "metadata": {},
   "source": [
    "### 1. Write a program to open three files 1.txt, 2.txt and 3.txt if any these files are not present, a message without exiting the program must be printed prompting the same.\n"
   ]
  },
  {
   "cell_type": "code",
   "execution_count": 10,
   "id": "a8b6e5ea-d980-4f06-9180-51714796f97d",
   "metadata": {},
   "outputs": [
    {
     "name": "stdout",
     "output_type": "stream",
     "text": [
      "[Errno 2] No such file or directory: '1.txt'\n",
      "[Errno 2] No such file or directory: '2.txt'\n",
      "[Errno 2] No such file or directory: '3.txt'\n",
      "Thank You!\n"
     ]
    }
   ],
   "source": [
    "\n",
    "try:\n",
    "    with open(\"1.txt\", \"r\") as f:\n",
    "        print(f.read())\n",
    "except Exception as e:\n",
    "    print(e)\n",
    "\n",
    "try:\n",
    "    with open(\"2.txt\", \"r\") as f:\n",
    "        print(f.read())\n",
    "except Exception as e:\n",
    "    print(e)\n",
    "\n",
    "try:\n",
    "    with open(\"3.txt\", \"r\") as f:\n",
    "        print(f.read())\n",
    "except Exception as e:\n",
    "    print(e)\n",
    "\n",
    "\n",
    "print(\"Thank You!\")"
   ]
  },
  {
   "cell_type": "markdown",
   "id": "6f976c96-a0b9-47bf-8408-1f9b57ee7466",
   "metadata": {},
   "source": [
    "### 2. Write a program to print third, fifth and seventh element from a list using enumerate function."
   ]
  },
  {
   "cell_type": "code",
   "execution_count": 14,
   "id": "edd0e04a-58e6-4277-a83f-714ab37509a8",
   "metadata": {},
   "outputs": [
    {
     "name": "stdout",
     "output_type": "stream",
     "text": [
      "3\n",
      "5\n",
      "7\n"
     ]
    }
   ],
   "source": [
    "l = [1, 2, 3, 4, 5, 6 ,7 , 8]\n",
    "\n",
    "for i, item in enumerate(l):\n",
    "    if i == 2 or i == 4 or i == 6:\n",
    "        print(item)"
   ]
  },
  {
   "cell_type": "markdown",
   "id": "15ac1ed0-205c-47ae-bc94-f7ed52011e0c",
   "metadata": {},
   "source": [
    "### 3. Write a list comprehension to print a list which contains the multiplication table of a user entered number."
   ]
  },
  {
   "cell_type": "code",
   "execution_count": 15,
   "id": "0d7c2419-5659-43d4-a229-b07d466a1b2f",
   "metadata": {},
   "outputs": [
    {
     "name": "stdin",
     "output_type": "stream",
     "text": [
      "Enter a number:  23\n"
     ]
    },
    {
     "name": "stdout",
     "output_type": "stream",
     "text": [
      "[23, 46, 69, 92, 115, 138, 161, 184, 207, 230]\n"
     ]
    }
   ],
   "source": [
    "n = int(input(\"Enter a number: \"))\n",
    "\n",
    "table = [n*i for i in range(1, 11)]\n",
    "print(table)"
   ]
  },
  {
   "cell_type": "markdown",
   "id": "ac40c724-d642-4352-9a07-7a99150cd2a7",
   "metadata": {},
   "source": [
    "### 4. Write a program to display a/b where a and b are integers. If b=0, display infinite by handling the ‘ZeroDivisionError’."
   ]
  },
  {
   "cell_type": "code",
   "execution_count": 16,
   "id": "09676654-1caa-40ac-b6b9-6a08d86aa934",
   "metadata": {},
   "outputs": [
    {
     "name": "stdin",
     "output_type": "stream",
     "text": [
      "Enter a:  2\n",
      "Enter b:  3\n"
     ]
    },
    {
     "name": "stdout",
     "output_type": "stream",
     "text": [
      "0.6666666666666666\n"
     ]
    }
   ],
   "source": [
    "try:\n",
    "    a = int(input(\"Enter a: \"))\n",
    "    b = int(input(\"Enter b: \"))\n",
    "    print(a/b)\n",
    "except ZeroDivisionError as v:\n",
    "    print(\"Infinite\")"
   ]
  },
  {
   "cell_type": "markdown",
   "id": "9b5e34f1-4fa9-4efd-8fb9-1efb54e69764",
   "metadata": {},
   "source": [
    "### 5. Store the multiplication tables generated in problem 3 in a file named Tables.txt."
   ]
  },
  {
   "cell_type": "code",
   "execution_count": 17,
   "id": "c8669634-b34f-4d6f-b4cc-3d79117c3dcc",
   "metadata": {},
   "outputs": [
    {
     "name": "stdin",
     "output_type": "stream",
     "text": [
      "Enter a number:  23\n"
     ]
    }
   ],
   "source": [
    "n = int(input(\"Enter a number: \"))\n",
    "\n",
    "table = [n*i for i in range(1, 11)]\n",
    "with open(\"tables.txt\", \"a\") as f:\n",
    "    f.write(f\"Table of {n}: {str(table)} \\n\")"
   ]
  },
  {
   "cell_type": "code",
   "execution_count": null,
   "id": "8198d993-8820-42e9-8abd-b205b8a794b4",
   "metadata": {},
   "outputs": [],
   "source": []
  }
 ],
 "metadata": {
  "kernelspec": {
   "display_name": "Python 3 (ipykernel)",
   "language": "python",
   "name": "python3"
  },
  "language_info": {
   "codemirror_mode": {
    "name": "ipython",
    "version": 3
   },
   "file_extension": ".py",
   "mimetype": "text/x-python",
   "name": "python",
   "nbconvert_exporter": "python",
   "pygments_lexer": "ipython3",
   "version": "3.12.4"
  }
 },
 "nbformat": 4,
 "nbformat_minor": 5
}
