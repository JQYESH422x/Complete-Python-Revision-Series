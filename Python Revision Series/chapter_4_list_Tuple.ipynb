{
 "cells": [
  {
   "cell_type": "markdown",
   "id": "b71cbae6-c49a-4fd7-b160-9c7895d70d0a",
   "metadata": {},
   "source": [
    "# List"
   ]
  },
  {
   "cell_type": "code",
   "execution_count": 3,
   "id": "f94e7fb8-8637-47a0-8a30-039a1bbbea10",
   "metadata": {},
   "outputs": [
    {
     "name": "stdout",
     "output_type": "stream",
     "text": [
      "Jayesh\n",
      "10\n",
      "[10, 33.33]\n",
      "['Jayesh', 'Keshavi']\n",
      "[33.33]\n"
     ]
    }
   ],
   "source": [
    "l1 = ['Jayesh','Keshavi',10,33.33,'Om']\n",
    "print(l1[0])\n",
    "print(l1[2])\n",
    "print(l1[2:4])\n",
    "print(l1[0:2])\n",
    "print(l1[-2:-1])"
   ]
  },
  {
   "cell_type": "code",
   "execution_count": 5,
   "id": "1056b95b-0cc4-4952-a920-51425bea4c91",
   "metadata": {},
   "outputs": [],
   "source": [
    "l1[2] = 'Vivek'"
   ]
  },
  {
   "cell_type": "code",
   "execution_count": 6,
   "id": "23ff5d9e-828d-4c1f-8114-b3d6c4966f07",
   "metadata": {},
   "outputs": [
    {
     "data": {
      "text/plain": [
       "['Jayesh', 'Keshavi', 'Vivek', 33.33, 'Om']"
      ]
     },
     "execution_count": 6,
     "metadata": {},
     "output_type": "execute_result"
    }
   ],
   "source": [
    "l1"
   ]
  },
  {
   "cell_type": "markdown",
   "id": "eb61800c-969a-4c5f-9f47-50cddc602ba6",
   "metadata": {},
   "source": [
    "# List Method "
   ]
  },
  {
   "cell_type": "code",
   "execution_count": 9,
   "id": "6a90ab0d-9855-4364-9de8-d9703362c05a",
   "metadata": {},
   "outputs": [
    {
     "name": "stdout",
     "output_type": "stream",
     "text": [
      "['Jayesh', 'Keshavi', 'Vivek', 33.33, 'Om', 'Chinu', 'Chinu']\n"
     ]
    }
   ],
   "source": [
    "l1.append('Chinu')\n",
    "print(l1)"
   ]
  },
  {
   "cell_type": "code",
   "execution_count": 11,
   "id": "1045f493-94d2-4346-aeaf-77b3004673fd",
   "metadata": {},
   "outputs": [
    {
     "data": {
      "text/plain": [
       "'Chinu'"
      ]
     },
     "execution_count": 11,
     "metadata": {},
     "output_type": "execute_result"
    }
   ],
   "source": [
    "l1.pop()"
   ]
  },
  {
   "cell_type": "code",
   "execution_count": 12,
   "id": "ab443137-07ec-413d-af3e-fa5abcf40ff0",
   "metadata": {},
   "outputs": [
    {
     "data": {
      "text/plain": [
       "['Jayesh', 'Keshavi', 'Vivek', 33.33, 'Om', 'Chinu']"
      ]
     },
     "execution_count": 12,
     "metadata": {},
     "output_type": "execute_result"
    }
   ],
   "source": [
    "l1"
   ]
  },
  {
   "cell_type": "code",
   "execution_count": 13,
   "id": "c0c01422-a29e-440a-b993-a0faef492b59",
   "metadata": {},
   "outputs": [],
   "source": [
    "l1.remove(33.33)"
   ]
  },
  {
   "cell_type": "code",
   "execution_count": 14,
   "id": "c567c18c-9953-4000-a25c-62c6942b0eff",
   "metadata": {},
   "outputs": [
    {
     "data": {
      "text/plain": [
       "['Jayesh', 'Keshavi', 'Vivek', 'Om', 'Chinu']"
      ]
     },
     "execution_count": 14,
     "metadata": {},
     "output_type": "execute_result"
    }
   ],
   "source": [
    "l1"
   ]
  },
  {
   "cell_type": "code",
   "execution_count": 15,
   "id": "767564eb-bc77-4c49-b35e-4a5fef972201",
   "metadata": {},
   "outputs": [],
   "source": [
    "l1.insert(3 , 3333333) # insert 333333 in index position 3"
   ]
  },
  {
   "cell_type": "code",
   "execution_count": 16,
   "id": "f2cbe60f-c6d7-4383-800a-fb8cfc7f210c",
   "metadata": {},
   "outputs": [
    {
     "data": {
      "text/plain": [
       "['Jayesh', 'Keshavi', 'Vivek', 3333333, 'Om', 'Chinu']"
      ]
     },
     "execution_count": 16,
     "metadata": {},
     "output_type": "execute_result"
    }
   ],
   "source": [
    "l1"
   ]
  },
  {
   "cell_type": "code",
   "execution_count": 17,
   "id": "2577afee-fb17-49f6-8974-add32ece9319",
   "metadata": {},
   "outputs": [],
   "source": [
    "l1.remove(3333333)"
   ]
  },
  {
   "cell_type": "code",
   "execution_count": 18,
   "id": "5513cd82-e050-42ae-8cf3-0aef099d77d2",
   "metadata": {},
   "outputs": [
    {
     "data": {
      "text/plain": [
       "['Jayesh', 'Keshavi', 'Vivek', 'Om', 'Chinu']"
      ]
     },
     "execution_count": 18,
     "metadata": {},
     "output_type": "execute_result"
    }
   ],
   "source": [
    "l1"
   ]
  },
  {
   "cell_type": "markdown",
   "id": "cd9af1ee-3f91-4782-b7d2-1a8319355b12",
   "metadata": {},
   "source": [
    "# Tuple"
   ]
  },
  {
   "cell_type": "code",
   "execution_count": 19,
   "id": "82cfedbe-1d79-43f2-b6ca-44e33dcdbd54",
   "metadata": {},
   "outputs": [
    {
     "name": "stdout",
     "output_type": "stream",
     "text": [
      "<class 'int'>\n"
     ]
    }
   ],
   "source": [
    "a=(1)\n",
    "print(type(a))"
   ]
  },
  {
   "cell_type": "code",
   "execution_count": 21,
   "id": "06e1e292-a32a-49c3-aca7-54cc7f38d6e6",
   "metadata": {},
   "outputs": [
    {
     "name": "stdout",
     "output_type": "stream",
     "text": [
      "<class 'tuple'>\n"
     ]
    }
   ],
   "source": [
    "#to consider one element as tuple we should write , after that element\n",
    "a=(1,)\n",
    "print(type(a))"
   ]
  },
  {
   "cell_type": "code",
   "execution_count": 25,
   "id": "a72a13e1-ba09-4699-b988-7f581b90fb8b",
   "metadata": {},
   "outputs": [
    {
     "ename": "TypeError",
     "evalue": "'tuple' object does not support item assignment",
     "output_type": "error",
     "traceback": [
      "\u001b[1;31m---------------------------------------------------------------------------\u001b[0m",
      "\u001b[1;31mTypeError\u001b[0m                                 Traceback (most recent call last)",
      "Cell \u001b[1;32mIn[25], line 2\u001b[0m\n\u001b[0;32m      1\u001b[0m a\u001b[38;5;241m=\u001b[39m(\u001b[38;5;124m'\u001b[39m\u001b[38;5;124mJayesh\u001b[39m\u001b[38;5;124m'\u001b[39m, \u001b[38;5;124m'\u001b[39m\u001b[38;5;124mKeshavi\u001b[39m\u001b[38;5;124m'\u001b[39m, \u001b[38;5;124m'\u001b[39m\u001b[38;5;124mVivek\u001b[39m\u001b[38;5;124m'\u001b[39m, \u001b[38;5;241m33.33\u001b[39m, \u001b[38;5;124m'\u001b[39m\u001b[38;5;124mOm\u001b[39m\u001b[38;5;124m'\u001b[39m)\n\u001b[1;32m----> 2\u001b[0m a[\u001b[38;5;241m0\u001b[39m]\u001b[38;5;241m=\u001b[39m\u001b[38;5;124m'\u001b[39m\u001b[38;5;124myash\u001b[39m\u001b[38;5;124m'\u001b[39m\n",
      "\u001b[1;31mTypeError\u001b[0m: 'tuple' object does not support item assignment"
     ]
    }
   ],
   "source": [
    "a=('Jayesh', 'Keshavi', 'Vivek', 33.33, 'Om')\n",
    "a[0]='yash'"
   ]
  },
  {
   "cell_type": "markdown",
   "id": "850d3544-15cb-4703-825f-6bc64b7fb9f3",
   "metadata": {},
   "source": [
    "# Tuple method"
   ]
  },
  {
   "cell_type": "code",
   "execution_count": 29,
   "id": "2dc0e4f6-44e9-4adc-9513-2b327d636d89",
   "metadata": {},
   "outputs": [
    {
     "name": "stdout",
     "output_type": "stream",
     "text": [
      "1\n",
      "3\n"
     ]
    }
   ],
   "source": [
    "a=(2,32,1,22,3334,2231,22.33)\n",
    "print(a.count(22))\n",
    "print(a.index(22))"
   ]
  },
  {
   "cell_type": "code",
   "execution_count": 30,
   "id": "f4e9fee9-1a36-4797-a670-bc7f1dbbbc2d",
   "metadata": {},
   "outputs": [
    {
     "name": "stdout",
     "output_type": "stream",
     "text": [
      "(1, 2, 3, 4)\n"
     ]
    }
   ],
   "source": [
    "tuple1 = (1, 2)\n",
    "tuple2 = (3, 4)\n",
    "print(tuple1 + tuple2)  # Output: (1, 2, 3, 4)\n"
   ]
  },
  {
   "cell_type": "code",
   "execution_count": 31,
   "id": "01c0f18e-4f00-4ad8-8c6c-746b6fc480c5",
   "metadata": {},
   "outputs": [
    {
     "name": "stdout",
     "output_type": "stream",
     "text": [
      "(1, 2, 1, 2, 1, 2)\n"
     ]
    }
   ],
   "source": [
    "my_tuple = (1, 2)\n",
    "print(my_tuple * 3)  # Output: (1, 2, 1, 2, 1, 2)\n"
   ]
  },
  {
   "cell_type": "code",
   "execution_count": 32,
   "id": "2ef7f82d-0981-4f3d-9ed7-b46c2bcb877a",
   "metadata": {},
   "outputs": [
    {
     "name": "stdout",
     "output_type": "stream",
     "text": [
      "True\n"
     ]
    }
   ],
   "source": [
    "my_tuple = (1, 2, 3)\n",
    "print(2 in my_tuple)  # Output: True\n"
   ]
  },
  {
   "cell_type": "code",
   "execution_count": 33,
   "id": "005f90de-3ce2-4687-a563-431e34711223",
   "metadata": {},
   "outputs": [
    {
     "name": "stdout",
     "output_type": "stream",
     "text": [
      "3\n"
     ]
    }
   ],
   "source": [
    "my_tuple = (1, 2, 3)\n",
    "print(len(my_tuple))  # Output: 3\n"
   ]
  },
  {
   "cell_type": "code",
   "execution_count": 34,
   "id": "ee5462b9-05bf-4330-a489-68c6e7baae2a",
   "metadata": {},
   "outputs": [
    {
     "name": "stdout",
     "output_type": "stream",
     "text": [
      "1 2 3\n"
     ]
    }
   ],
   "source": [
    "my_tuple = (1, 2, 3)\n",
    "a,b,c = my_tuple\n",
    "print(a,b,c)"
   ]
  },
  {
   "attachments": {
    "93585561-2c13-4884-9c34-42638c5ad19f.png": {
     "image/png": "[encoded data removed]"
    }
   },
   "cell_type": "markdown",
   "id": "3746c468-bfe6-43bb-b4c0-5aa3f2cac540",
   "metadata": {},
   "source": [
    "![image.png](attachment:93585561-2c13-4884-9c34-42638c5ad19f.png)"
   ]
  },
  {
   "cell_type": "code",
   "execution_count": 35,
   "id": "1e626cf5-e637-4354-b8fb-d65e26f76178",
   "metadata": {},
   "outputs": [
    {
     "name": "stdin",
     "output_type": "stream",
     "text": [
      "Enter fruit name :  chiku\n",
      "Enter fruit name :  strawberry\n",
      "Enter fruit name :  berry\n",
      "Enter fruit name :  banana\n",
      "Enter fruit name :  litchi\n",
      "Enter fruit name :  apple\n",
      "Enter fruit name :  mango\n"
     ]
    },
    {
     "name": "stdout",
     "output_type": "stream",
     "text": [
      "['chiku', 'strawberry', 'berry', 'banana', 'litchi', 'apple', 'mango']\n"
     ]
    }
   ],
   "source": [
    "l1=[]\n",
    "for i in range(7):\n",
    "    name=input('Enter fruit name : ')\n",
    "    l1.append(name)\n",
    "\n",
    "print(l1)"
   ]
  },
  {
   "cell_type": "code",
   "execution_count": 42,
   "id": "cd83560c-179c-4d46-86ae-9b0b5ed4f473",
   "metadata": {},
   "outputs": [
    {
     "name": "stdin",
     "output_type": "stream",
     "text": [
      "Enter marks here of student 0 :  22\n",
      "Enter marks here of student 1 :  1\n",
      "Enter marks here of student 2 :  2\n",
      "Enter marks here of student 3 :  3\n",
      "Enter marks here of student 4 :  2\n",
      "Enter marks here of student 5 :  1\n"
     ]
    },
    {
     "name": "stdout",
     "output_type": "stream",
     "text": [
      "[1, 1, 2, 2, 3, 22]\n"
     ]
    }
   ],
   "source": [
    "l1=[]\n",
    "for i in range(6):\n",
    "    m=int(input(f'Enter marks here of student {i} : '))\n",
    "    l1.append(m)\n",
    "l1.sort()\n",
    "print(l1)"
   ]
  },
  {
   "cell_type": "code",
   "execution_count": 43,
   "id": "2e5835e8-d090-443d-b1e5-0a64a73e5d79",
   "metadata": {},
   "outputs": [
    {
     "ename": "TypeError",
     "evalue": "'tuple' object does not support item assignment",
     "output_type": "error",
     "traceback": [
      "\u001b[1;31m---------------------------------------------------------------------------\u001b[0m",
      "\u001b[1;31mTypeError\u001b[0m                                 Traceback (most recent call last)",
      "Cell \u001b[1;32mIn[43], line 2\u001b[0m\n\u001b[0;32m      1\u001b[0m my_tuple \u001b[38;5;241m=\u001b[39m (\u001b[38;5;241m1\u001b[39m, \u001b[38;5;241m2\u001b[39m, \u001b[38;5;241m3\u001b[39m)\n\u001b[1;32m----> 2\u001b[0m my_tuple[\u001b[38;5;241m1\u001b[39m]\u001b[38;5;241m=\u001b[39m\u001b[38;5;241m4\u001b[39m\n",
      "\u001b[1;31mTypeError\u001b[0m: 'tuple' object does not support item assignment"
     ]
    }
   ],
   "source": [
    "my_tuple = (1, 2, 3)\n",
    "my_tuple[1]=4"
   ]
  },
  {
   "cell_type": "code",
   "execution_count": 44,
   "id": "5181c081-c816-4194-b4b2-10a4b7db4a94",
   "metadata": {},
   "outputs": [
    {
     "name": "stdout",
     "output_type": "stream",
     "text": [
      "79\n"
     ]
    }
   ],
   "source": [
    " l1 = [22,11,23,21,2]\n",
    "print(sum(l1))"
   ]
  },
  {
   "cell_type": "code",
   "execution_count": 45,
   "id": "382e5f19-08ef-426a-a8e8-26c3996691a2",
   "metadata": {},
   "outputs": [
    {
     "data": {
      "text/plain": [
       "3"
      ]
     },
     "execution_count": 45,
     "metadata": {},
     "output_type": "execute_result"
    }
   ],
   "source": [
    "a = (7, 0, 8, 0, 0, 9)\n",
    "a.count(0)"
   ]
  }
 ],
 "metadata": {
  "kernelspec": {
   "display_name": "Python 3 (ipykernel)",
   "language": "python",
   "name": "python3"
  },
  "language_info": {
   "codemirror_mode": {
    "name": "ipython",
    "version": 3
   },
   "file_extension": ".py",
   "mimetype": "text/x-python",
   "name": "python",
   "nbconvert_exporter": "python",
   "pygments_lexer": "ipython3",
   "version": "3.12.4"
  }
 },
 "nbformat": 4,
 "nbformat_minor": 5
}
