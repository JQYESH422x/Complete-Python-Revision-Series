{
 "cells": [
  {
   "cell_type": "code",
   "execution_count": 1,
   "id": "0d46594c-1bb4-4678-9729-5bbfc55bd862",
   "metadata": {},
   "outputs": [
    {
     "name": "stdout",
     "output_type": "stream",
     "text": [
      "0\n",
      "1\n",
      "2\n",
      "3\n",
      "4\n"
     ]
    }
   ],
   "source": [
    "for i in range (5):\n",
    "    print(i)"
   ]
  },
  {
   "cell_type": "markdown",
   "id": "17055c2d-1eb4-46b1-9233-b76a7ddc76d8",
   "metadata": {},
   "source": [
    "## While loop"
   ]
  },
  {
   "cell_type": "code",
   "execution_count": 3,
   "id": "36573e26-597b-4a71-ba86-f47567d37e81",
   "metadata": {},
   "outputs": [
    {
     "name": "stdout",
     "output_type": "stream",
     "text": [
      "1\n",
      "2\n",
      "3\n",
      "4\n",
      "5\n"
     ]
    }
   ],
   "source": [
    "i=1\n",
    "while(i<6):\n",
    "    print(i)\n",
    "    i +=1\n",
    "'''output:\n",
    "1\n",
    "2\n",
    "3\n",
    "4\n",
    "5\n",
    "'''"
   ]
  },
  {
   "cell_type": "code",
   "execution_count": 7,
   "id": "707664c2-887d-4acc-9422-097b3c968e52",
   "metadata": {},
   "outputs": [
    {
     "name": "stdout",
     "output_type": "stream",
     "text": [
      "1\n",
      "False\n",
      "Harry\n",
      "True\n",
      "Jayesh\n"
     ]
    }
   ],
   "source": [
    "#list using while loop\n",
    "l = [1,False,'Harry',True,'Jayesh']\n",
    "\n",
    "i=0\n",
    "while (i < len(l)):\n",
    "    print(l[i])\n",
    "    i += 1"
   ]
  },
  {
   "cell_type": "markdown",
   "id": "3b87125a-8ea0-4f73-9626-3111410e6516",
   "metadata": {},
   "source": [
    "## For loop"
   ]
  },
  {
   "cell_type": "code",
   "execution_count": 8,
   "id": "dfee0c2c-8e0e-4199-a9dc-e903dd56b599",
   "metadata": {},
   "outputs": [
    {
     "name": "stdout",
     "output_type": "stream",
     "text": [
      "0\n",
      "1\n",
      "2\n",
      "3\n",
      "4\n"
     ]
    }
   ],
   "source": [
    "for i in range(5):\n",
    "    print(i)"
   ]
  },
  {
   "cell_type": "code",
   "execution_count": 11,
   "id": "747f3a44-9288-4079-8cef-057a1b7e31f4",
   "metadata": {},
   "outputs": [
    {
     "name": "stdout",
     "output_type": "stream",
     "text": [
      "1\n",
      "3\n",
      "5\n",
      "7\n",
      "9\n"
     ]
    }
   ],
   "source": [
    "for i in range(1,10,2):\n",
    "    print(i)"
   ]
  },
  {
   "cell_type": "code",
   "execution_count": 12,
   "id": "42e8593f-8fd4-4699-b739-5eeff8b7c5ee",
   "metadata": {},
   "outputs": [
    {
     "name": "stdout",
     "output_type": "stream",
     "text": [
      "1\n",
      "False\n",
      "Harry\n",
      "True\n",
      "Jayesh\n"
     ]
    }
   ],
   "source": [
    "l = [1,False,'Harry',True,'Jayesh']\n",
    "for i in l:\n",
    "    print(i)"
   ]
  },
  {
   "cell_type": "markdown",
   "id": "fc0539de-9ccf-409e-9a63-8dcbd1f84d61",
   "metadata": {},
   "source": [
    "## For loop with else"
   ]
  },
  {
   "cell_type": "code",
   "execution_count": 13,
   "id": "a5936dee-34d9-481b-99e7-8daaa41b4e46",
   "metadata": {},
   "outputs": [
    {
     "name": "stdout",
     "output_type": "stream",
     "text": [
      "1\n",
      "False\n",
      "Harry\n",
      "True\n",
      "Jayesh\n",
      "Done\n"
     ]
    }
   ],
   "source": [
    "l = [1,False,'Harry',True,'Jayesh']\n",
    "for item in l:\n",
    "    print(item)\n",
    "else:\n",
    "    print('Done') #printed when the list is exausted"
   ]
  },
  {
   "cell_type": "markdown",
   "id": "9d60e20f-836b-4c06-8a2b-ff9b339d031a",
   "metadata": {},
   "source": [
    "### break,continue and pass "
   ]
  },
  {
   "cell_type": "code",
   "execution_count": 18,
   "id": "1f72fc53-de65-4b65-86fe-ba8d7416bec4",
   "metadata": {},
   "outputs": [
    {
     "name": "stdout",
     "output_type": "stream",
     "text": [
      "0\n",
      "1\n",
      "2\n",
      "3\n"
     ]
    }
   ],
   "source": [
    "for i in range(10):\n",
    "    if (i==4):\n",
    "        break # exit the loop right now \n",
    "    print(i)"
   ]
  },
  {
   "cell_type": "code",
   "execution_count": 19,
   "id": "e1da2eaa-4807-432d-a9e7-93c40804b47a",
   "metadata": {},
   "outputs": [
    {
     "name": "stdout",
     "output_type": "stream",
     "text": [
      "0\n",
      "1\n",
      "2\n",
      "3\n",
      "5\n",
      "6\n",
      "7\n",
      "8\n",
      "9\n"
     ]
    }
   ],
   "source": [
    "for i in range(10):\n",
    "    if (i==4):\n",
    "        continue # skip this iteration \n",
    "    print(i)"
   ]
  },
  {
   "cell_type": "code",
   "execution_count": 20,
   "id": "e3c5571d-9cab-4131-932e-0b139b9f6383",
   "metadata": {},
   "outputs": [
    {
     "name": "stdout",
     "output_type": "stream",
     "text": [
      "0\n",
      "1\n",
      "2\n",
      "3\n",
      "5\n",
      "6\n",
      "7\n",
      "8\n",
      "9\n"
     ]
    }
   ],
   "source": [
    "for i in range(10):\n",
    "    pass\n",
    "\n",
    "for i in range(10):\n",
    "    if (i==4):\n",
    "        continue # skip this iteration \n",
    "    print(i)"
   ]
  },
  {
   "cell_type": "markdown",
   "id": "d41c2450-76b6-45af-aa2a-771f38a1b26b",
   "metadata": {},
   "source": [
    "### Write a program to print multiplication table of a given number using for loop"
   ]
  },
  {
   "cell_type": "code",
   "execution_count": 23,
   "id": "c3be0bec-31de-43ae-b1f3-5b83c976f48c",
   "metadata": {},
   "outputs": [
    {
     "name": "stdin",
     "output_type": "stream",
     "text": [
      "Enter number whose table you want :  3\n"
     ]
    },
    {
     "name": "stdout",
     "output_type": "stream",
     "text": [
      "3 X 1 = 3 \n",
      "3 X 2 = 6 \n",
      "3 X 3 = 9 \n",
      "3 X 4 = 12 \n",
      "3 X 5 = 15 \n",
      "3 X 6 = 18 \n",
      "3 X 7 = 21 \n",
      "3 X 8 = 24 \n",
      "3 X 9 = 27 \n",
      "3 X 10 = 30 \n"
     ]
    }
   ],
   "source": [
    "num = int(input('Enter number whose table you want : '))\n",
    "for i in range(1,11):\n",
    "    print(f'{num} X {i} = {num * i } ')"
   ]
  },
  {
   "cell_type": "code",
   "execution_count": 28,
   "id": "c5b850c6-4515-4848-8b7e-37322448856f",
   "metadata": {},
   "outputs": [
    {
     "name": "stdin",
     "output_type": "stream",
     "text": [
      "Enter any number :  3\n"
     ]
    },
    {
     "name": "stdout",
     "output_type": "stream",
     "text": [
      "3 X 1 = 3\n",
      "3 X 2 = 6\n",
      "3 X 3 = 9\n",
      "3 X 4 = 12\n",
      "3 X 5 = 15\n",
      "3 X 6 = 18\n",
      "3 X 7 = 21\n",
      "3 X 8 = 24\n",
      "3 X 9 = 27\n",
      "3 X 10 = 30\n"
     ]
    }
   ],
   "source": [
    "n = int(input(\"Enter any number : \"))\n",
    "i=1\n",
    "while(i<11):\n",
    "    print(f'{n} X {i} = {n*i}')\n",
    "    i+=1"
   ]
  },
  {
   "cell_type": "markdown",
   "id": "ff22950e-681d-4d7c-a20d-bcbc9b4285f6",
   "metadata": {},
   "source": [
    "### Write a program to greet all the person names stored in a list ‘l’ and which starts\n",
    "### with S.\n",
    "### l = [\"Harry\", \"Soham\", \"Sachin\", \"Rahul\"]"
   ]
  },
  {
   "cell_type": "code",
   "execution_count": 25,
   "id": "2ea307ad-953f-4f73-ba12-6f9b146ca6ff",
   "metadata": {},
   "outputs": [
    {
     "name": "stdout",
     "output_type": "stream",
     "text": [
      "Good Morning, Soham\n",
      "Good Morning, Sachin\n"
     ]
    }
   ],
   "source": [
    "l = [\"Harry\", \"Soham\", \"Sachin\", \"Rahul\"]\n",
    "\n",
    "for i in l:\n",
    "    if (i.startswith('S')):\n",
    "        print(\"Good Morning,\",i)"
   ]
  },
  {
   "cell_type": "markdown",
   "id": "4969c700-b430-42a1-9f14-a75dd24db0ec",
   "metadata": {},
   "source": [
    "### Write a program to find whether a given number is prime or not."
   ]
  },
  {
   "cell_type": "code",
   "execution_count": 40,
   "id": "88c87240-da89-4fd9-b76b-61325ec463f2",
   "metadata": {},
   "outputs": [
    {
     "name": "stdin",
     "output_type": "stream",
     "text": [
      "Enter any number :  8\n"
     ]
    },
    {
     "name": "stdout",
     "output_type": "stream",
     "text": [
      "Not a prime number\n"
     ]
    }
   ],
   "source": [
    "n = int(input(\"Enter any number : \"))\n",
    "\n",
    "for i in range(2,n):\n",
    "    \n",
    "    if (n%i==0) :\n",
    "\n",
    "        print('Not a prime number')\n",
    "        break\n",
    "        \n",
    "    # else:\n",
    "    #     print('prime')"
   ]
  },
  {
   "cell_type": "markdown",
   "id": "2626e94a-2b47-4d0f-99bd-1377d6bc7777",
   "metadata": {},
   "source": [
    "### Write a program to find the sum of first n natural numbers using while loop."
   ]
  },
  {
   "cell_type": "code",
   "execution_count": 45,
   "id": "d81cf08d-4daf-4413-9c62-344c4f1a462a",
   "metadata": {},
   "outputs": [
    {
     "name": "stdin",
     "output_type": "stream",
     "text": [
      "Enter any number :  33\n"
     ]
    },
    {
     "name": "stdout",
     "output_type": "stream",
     "text": [
      "561\n"
     ]
    }
   ],
   "source": [
    "n = int(input(\"Enter any number : \"))\n",
    "sum=0\n",
    "for i in range(0,n+1):\n",
    "    sum += i \n",
    "print(sum)"
   ]
  },
  {
   "cell_type": "code",
   "execution_count": 46,
   "id": "fc5ba660-3a4b-4b8a-b462-bd7c602cf51b",
   "metadata": {},
   "outputs": [
    {
     "name": "stdin",
     "output_type": "stream",
     "text": [
      "Enter any number :  33\n"
     ]
    },
    {
     "name": "stdout",
     "output_type": "stream",
     "text": [
      "561\n"
     ]
    }
   ],
   "source": [
    "i = 0\n",
    "sum=0\n",
    "n=int(input(\"Enter any number : \"))\n",
    "while (i<=n):\n",
    "    sum+=i\n",
    "    i+=1\n",
    "print(sum)\n",
    "    "
   ]
  },
  {
   "cell_type": "markdown",
   "id": "1a81dd30-2461-49d8-ae92-5942fe5223f1",
   "metadata": {},
   "source": [
    "### Write a program to calculate the factorial of a given number using for loop."
   ]
  },
  {
   "cell_type": "code",
   "execution_count": 48,
   "id": "3b9fea28-afef-49e2-95b7-32e9de330a53",
   "metadata": {},
   "outputs": [
    {
     "name": "stdin",
     "output_type": "stream",
     "text": [
      "Enter any number :  3\n"
     ]
    },
    {
     "name": "stdout",
     "output_type": "stream",
     "text": [
      "6\n"
     ]
    }
   ],
   "source": [
    "n = int(input('Enter any number : '))\n",
    "fact = 1\n",
    "for i in range(1,n+1):\n",
    "    fact = fact * i\n",
    "print(fact)"
   ]
  },
  {
   "cell_type": "markdown",
   "id": "dd5e1c5e-6152-49ad-9149-c184c43c92e7",
   "metadata": {},
   "source": [
    "### Write a program to print the following star pattern.\n",
    "     *\n",
    "    ***\n",
    "    ***** for n = 3\n"
   ]
  },
  {
   "cell_type": "code",
   "execution_count": 71,
   "id": "4b5123dc-ddb8-4405-a19e-b29bfe994c7c",
   "metadata": {},
   "outputs": [
    {
     "name": "stdin",
     "output_type": "stream",
     "text": [
      "Enter any number :  5\n"
     ]
    },
    {
     "name": "stdout",
     "output_type": "stream",
     "text": [
      "    *\n",
      "   ***\n",
      "  *****\n",
      " *******\n",
      "*********\n"
     ]
    }
   ],
   "source": [
    "n = int (input('Enter any number : '))\n",
    "for i in range(1,n+1):\n",
    "    print(\" \" * (n-i),end=\"\")\n",
    "    print('*' * (2*i-1) ,end=\"\") #end=\"\" wont add this line\n",
    "    print('') #to add new line"
   ]
  },
  {
   "cell_type": "markdown",
   "id": "4054cefa-9d16-426b-8424-d08fc20babdf",
   "metadata": {},
   "source": [
    "### Write a program to print the following star pattern:\n",
    "    *\n",
    "    **\n",
    "    *** for n = 3"
   ]
  },
  {
   "cell_type": "code",
   "execution_count": 73,
   "id": "2107a1f6-9092-45a1-b643-8a6bca7e2506",
   "metadata": {},
   "outputs": [
    {
     "name": "stdin",
     "output_type": "stream",
     "text": [
      "Enter any number :  3\n"
     ]
    },
    {
     "name": "stdout",
     "output_type": "stream",
     "text": [
      "*\n",
      "**\n",
      "***\n"
     ]
    }
   ],
   "source": [
    "n = int(input('Enter any number : '))\n",
    "for i in range(1,n+1):\n",
    "    print('*'*i)"
   ]
  },
  {
   "cell_type": "markdown",
   "id": "786ec2ee-c170-4b5e-8e7d-e45f0713d12d",
   "metadata": {},
   "source": [
    "### Write a program to print the following star pattern.\n",
    "    * * *\n",
    "    *   * for n = 3\n",
    "    * * *"
   ]
  },
  {
   "cell_type": "code",
   "execution_count": 83,
   "id": "b4893e5e-ec38-4402-a274-1a2d2d8bdc88",
   "metadata": {},
   "outputs": [
    {
     "name": "stdin",
     "output_type": "stream",
     "text": [
      "Enter any number :  3\n"
     ]
    },
    {
     "name": "stdout",
     "output_type": "stream",
     "text": [
      "***\n",
      "* *\n",
      "***\n"
     ]
    }
   ],
   "source": [
    "n= int(input('Enter any number : '))\n",
    "       \n",
    "for i in range(1,n+1):\n",
    "    if (i==1 or i==n):\n",
    "        print('*'*n, end='')\n",
    "    else:\n",
    "        print('*',end='')\n",
    "        print(' '*(n-2),end='')\n",
    "        print('*',end='')\n",
    "    print('')\n"
   ]
  },
  {
   "cell_type": "markdown",
   "id": "71b35482-e130-4124-8912-cad6befb6ab0",
   "metadata": {},
   "source": [
    "### Write a program to print multiplication table of n using for loops in reversed order."
   ]
  },
  {
   "cell_type": "code",
   "execution_count": 89,
   "id": "8b243ae7-5c40-4a36-a793-0366349d9a05",
   "metadata": {},
   "outputs": [
    {
     "name": "stdin",
     "output_type": "stream",
     "text": [
      "Enter any number :  3\n"
     ]
    },
    {
     "name": "stdout",
     "output_type": "stream",
     "text": [
      "3 X 10 == 30\n",
      "3 X 9 == 27\n",
      "3 X 8 == 24\n",
      "3 X 7 == 21\n",
      "3 X 6 == 18\n",
      "3 X 5 == 15\n",
      "3 X 4 == 12\n",
      "3 X 3 == 9\n",
      "3 X 2 == 6\n",
      "3 X 1 == 3\n"
     ]
    }
   ],
   "source": [
    "n = int(input(\"Enter any number : \"))\n",
    "\n",
    "for i in range(10,0,-1):\n",
    "    print(f'{n} X {i} == {n*i}')"
   ]
  },
  {
   "cell_type": "code",
   "execution_count": 90,
   "id": "1456e594-79cf-4bb0-a2bf-85426fa61b34",
   "metadata": {},
   "outputs": [
    {
     "name": "stdin",
     "output_type": "stream",
     "text": [
      "Enter any number :  3\n"
     ]
    },
    {
     "name": "stdout",
     "output_type": "stream",
     "text": [
      "3 X 10 == 30\n",
      "3 X 9 == 27\n",
      "3 X 8 == 24\n",
      "3 X 7 == 21\n",
      "3 X 6 == 18\n",
      "3 X 5 == 15\n",
      "3 X 4 == 12\n",
      "3 X 3 == 9\n",
      "3 X 2 == 6\n",
      "3 X 1 == 3\n"
     ]
    }
   ],
   "source": [
    "n = int(input(\"Enter any number : \"))\n",
    "for i in range(1,11):\n",
    "    print(f'{n} X {11-i} == {n*(11-i)}')"
   ]
  },
  {
   "cell_type": "code",
   "execution_count": null,
   "id": "01fcf110-e436-4730-9873-07722e1ae1dd",
   "metadata": {},
   "outputs": [],
   "source": []
  }
 ],
 "metadata": {
  "kernelspec": {
   "display_name": "Python 3 (ipykernel)",
   "language": "python",
   "name": "python3"
  },
  "language_info": {
   "codemirror_mode": {
    "name": "ipython",
    "version": 3
   },
   "file_extension": ".py",
   "mimetype": "text/x-python",
   "name": "python",
   "nbconvert_exporter": "python",
   "pygments_lexer": "ipython3",
   "version": "3.12.4"
  }
 },
 "nbformat": 4,
 "nbformat_minor": 5
}
