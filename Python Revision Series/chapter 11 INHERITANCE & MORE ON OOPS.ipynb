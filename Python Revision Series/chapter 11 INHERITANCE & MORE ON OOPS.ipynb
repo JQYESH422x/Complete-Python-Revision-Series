{
 "cells": [
  {
   "cell_type": "markdown",
   "id": "d3f9b98c-bd77-4e3f-baa2-02323c0bd9c6",
   "metadata": {},
   "source": [
    "### Inheritance "
   ]
  },
  {
   "cell_type": "code",
   "execution_count": 28,
   "id": "ad6f7279-6362-4331-9673-a5f046eadc06",
   "metadata": {},
   "outputs": [],
   "source": [
    "class Employee:\n",
    "    company = 'ITC'\n",
    "    name='default name'\n",
    "    def show(self):\n",
    "        print(f'The name is {self.name}')\n",
    "\n",
    "class Programmer(Employee):\n",
    "    company = 'ITC Infortech'\n",
    "    def show_name(self):\n",
    "        print(f'The name is {self.company} and his good name is  {self.name}')"
   ]
  },
  {
   "cell_type": "code",
   "execution_count": 29,
   "id": "1ffeeb26-2f0a-49ee-8c40-54d82f000b98",
   "metadata": {},
   "outputs": [
    {
     "name": "stdout",
     "output_type": "stream",
     "text": [
      "ITC\n",
      "ITC Infortech\n",
      "The name is default name\n",
      "The name is ITC Infortech and his good name is  default name\n"
     ]
    }
   ],
   "source": [
    "a=Employee()\n",
    "print(a.company)\n",
    "b=Programmer()\n",
    "print(b.company)\n",
    "b.show()\n",
    "b.show_name()"
   ]
  },
  {
   "cell_type": "markdown",
   "id": "4072d11a-aa90-4b75-92d7-daab38a23fa2",
   "metadata": {},
   "source": [
    "### Multiple Inheritance "
   ]
  },
  {
   "cell_type": "code",
   "execution_count": 21,
   "id": "0857f1e7-c61d-4079-b487-8ee8b52842b4",
   "metadata": {},
   "outputs": [],
   "source": [
    "class Employee:\n",
    "    company = 'ITC'\n",
    "    name='default name'\n",
    "    def show(self):\n",
    "        print(f'The name is {self.name}')\n",
    "\n",
    "class coder():\n",
    "    language='Python'\n",
    "    def printlang(self):\n",
    "        print(f'out of all languages your language is {self.language}')\n",
    "\n",
    "class Programmer(Employee,coder):\n",
    "    company = 'ITC Infortech'\n",
    "    def show_lang(self):\n",
    "        print(f'The name is {self.company} and he is good with {self.language} language')\n"
   ]
  },
  {
   "cell_type": "code",
   "execution_count": 23,
   "id": "bad40c23-d94a-4a8c-87be-b171a23a3d0c",
   "metadata": {},
   "outputs": [
    {
     "name": "stdout",
     "output_type": "stream",
     "text": [
      "out of all languages your language is Python\n",
      "The name is default name\n",
      "The name is ITC Infortech and he is good with Python language\n"
     ]
    }
   ],
   "source": [
    "a = Employee()\n",
    "b = Programmer()\n",
    "b.printlang()\n",
    "b.show()\n",
    "b.show_lang()"
   ]
  },
  {
   "cell_type": "markdown",
   "id": "cd917619-436e-4e68-8e43-465047d4da00",
   "metadata": {},
   "source": [
    "### Multilevel Inheritance"
   ]
  },
  {
   "cell_type": "code",
   "execution_count": 30,
   "id": "e53ab164-90d9-4602-be53-7bdfbe1b09b1",
   "metadata": {},
   "outputs": [],
   "source": [
    "class Employee:\n",
    "    a=1\n",
    "class Programmer(Employee):\n",
    "    b=2\n",
    "class coder(Programmer):\n",
    "    c=3"
   ]
  },
  {
   "cell_type": "code",
   "execution_count": 32,
   "id": "4b4fed8c-ae8c-42f4-ae39-b3b9abd12766",
   "metadata": {},
   "outputs": [
    {
     "name": "stdout",
     "output_type": "stream",
     "text": [
      "1\n",
      "2\n",
      "3\n"
     ]
    }
   ],
   "source": [
    "o=coder()\n",
    "print(o.a)\n",
    "print(o.b)\n",
    "print(o.c)"
   ]
  },
  {
   "cell_type": "markdown",
   "id": "2b78c27e-3484-485e-92bd-e43981959789",
   "metadata": {},
   "source": [
    "### Super Method"
   ]
  },
  {
   "cell_type": "code",
   "execution_count": 39,
   "id": "c9cb9c0e-5f77-4c3a-b814-4912a2624e20",
   "metadata": {},
   "outputs": [],
   "source": [
    "class Employee:\n",
    "    def __init__(self):\n",
    "        print('Constructor of Employee')\n",
    "    a=1\n",
    "class Programmer(Employee):\n",
    "    def __init__(self):\n",
    "        print('Constructor of Programmer')\n",
    "    b=2\n",
    "class coder(Programmer):\n",
    "    def __init__(self):\n",
    "        super().__init__()\n",
    "        print('Constructor of coder')\n",
    "    c=3"
   ]
  },
  {
   "cell_type": "code",
   "execution_count": 40,
   "id": "e52ec96c-ebc9-482c-869e-526dd104a643",
   "metadata": {},
   "outputs": [
    {
     "name": "stdout",
     "output_type": "stream",
     "text": [
      "Constructor of Programmer\n",
      "Constructor of coder\n",
      "1\n",
      "2\n",
      "3\n"
     ]
    }
   ],
   "source": [
    "o=coder()\n",
    "print(o.a)\n",
    "print(o.b)\n",
    "print(o.c)"
   ]
  },
  {
   "cell_type": "markdown",
   "id": "dbd843fe-1a14-4539-9591-2c2e5a58ba0e",
   "metadata": {},
   "source": [
    "### Class method"
   ]
  },
  {
   "cell_type": "code",
   "execution_count": 43,
   "id": "23d7d0af-5413-4404-93ec-e41523171b17",
   "metadata": {},
   "outputs": [],
   "source": [
    "class Employee:\n",
    "    a=4\n",
    "    def show(self):\n",
    "        print(f'The value of a is {self.a}')"
   ]
  },
  {
   "cell_type": "code",
   "execution_count": 44,
   "id": "9d0cbf0e-f742-4b55-9b02-4c50c4946baf",
   "metadata": {},
   "outputs": [
    {
     "name": "stdout",
     "output_type": "stream",
     "text": [
      "The value of a is 45\n"
     ]
    }
   ],
   "source": [
    "e=Employee()\n",
    "\n",
    "e.a=45\n",
    "e.show()"
   ]
  },
  {
   "cell_type": "code",
   "execution_count": 45,
   "id": "cc9e05c1-3a0c-4fb7-b65f-0bdbdd1798dd",
   "metadata": {},
   "outputs": [],
   "source": [
    "class Employee:\n",
    "    a=4\n",
    "    @classmethod\n",
    "    def show(self):\n",
    "        print(f'The value of a is {self.a}')"
   ]
  },
  {
   "cell_type": "code",
   "execution_count": 46,
   "id": "7e30fc10-5e35-4a6d-aed9-e1e3b8b5de9b",
   "metadata": {},
   "outputs": [
    {
     "name": "stdout",
     "output_type": "stream",
     "text": [
      "The value of a is 4\n"
     ]
    }
   ],
   "source": [
    "e=Employee()\n",
    "\n",
    "e.a=45\n",
    "e.show()"
   ]
  },
  {
   "cell_type": "markdown",
   "id": "b8a1d785-a105-44df-96c0-c4ef1910fab5",
   "metadata": {},
   "source": [
    "### Property Decorators"
   ]
  },
  {
   "cell_type": "code",
   "execution_count": 9,
   "id": "80fdb341-d8c7-494f-87fd-795120adfdf6",
   "metadata": {},
   "outputs": [
    {
     "name": "stdout",
     "output_type": "stream",
     "text": [
      "Jayesh\n",
      "Nikumbh \n",
      "The value of a is 1\n"
     ]
    }
   ],
   "source": [
    "class Employee:\n",
    "    a=1\n",
    "    @classmethod\n",
    "    def show(cls):\n",
    "        print(f'The value of a is {cls.a}')\n",
    "\n",
    "    @property\n",
    "    def name(self):\n",
    "        return f'{self.fname}\\n{self.lname} '\n",
    "\n",
    "    @name.setter\n",
    "    def name(self,value):\n",
    "        self.fname=value.split(' ')[0]\n",
    "        self.lname=value.split(' ')[1]\n",
    "        \n",
    "e=Employee()\n",
    "e.a=45\n",
    "\n",
    "e.name='Jayesh Nikumbh'\n",
    "print(e.name)\n",
    "\n",
    "e.show()"
   ]
  },
  {
   "cell_type": "markdown",
   "id": "87afcd10-d92f-4620-9a77-494eb1b9efb3",
   "metadata": {},
   "source": [
    "#### ENCAPSULATION\n",
    "\n",
    "Encapsulation is the concept of bundling data (attributes) and methods (functions) that operate on the data into a single unit, typically called a class. It also involves restricting direct access to some of the object's components, which is achieved through access modifiers like private, protected, and public."
   ]
  },
  {
   "cell_type": "code",
   "execution_count": 10,
   "id": "05b849d5-ccf0-468c-ad03-95c64e4f00e8",
   "metadata": {},
   "outputs": [],
   "source": [
    "class Employee:\n",
    "    def __init__(self, name, salary):\n",
    "        self.name = name  # Public attribute\n",
    "        self.__salary = salary  # Private attribute (using double underscore)\n",
    "\n",
    "    # Getter for salary\n",
    "    def get_salary(self):\n",
    "        return self.__salary\n",
    "\n",
    "    # Setter for salary\n",
    "    def set_salary(self, salary):\n",
    "        if salary > 0:\n",
    "            self.__salary = salary\n",
    "        else:\n",
    "            print(\"Invalid salary\")\n"
   ]
  },
  {
   "cell_type": "code",
   "execution_count": 14,
   "id": "f9c78ff5-a5fe-4e4a-810b-8bbd6ab1c6e8",
   "metadata": {},
   "outputs": [
    {
     "data": {
      "text/plain": [
       "1400000"
      ]
     },
     "execution_count": 14,
     "metadata": {},
     "output_type": "execute_result"
    }
   ],
   "source": [
    "e=Employee('jayesh',1400000)\n",
    "e.get_salary()"
   ]
  },
  {
   "cell_type": "markdown",
   "id": "aae6edad-e160-49b3-b265-71cbd8fe4a95",
   "metadata": {},
   "source": [
    "#### Abstraction:\n",
    "Abstraction refers to the concept of hiding the implementation details and exposing only the essential features of an object. This allows programmers to focus on what an object does, rather than how it does it, making the system easier to manage and extend."
   ]
  },
  {
   "cell_type": "code",
   "execution_count": 15,
   "id": "f8a45e19-6a03-40b4-a179-75463a9be974",
   "metadata": {},
   "outputs": [
    {
     "name": "stdout",
     "output_type": "stream",
     "text": [
      "78.5\n"
     ]
    }
   ],
   "source": [
    "from abc import ABC, abstractmethod\n",
    "\n",
    "# Abstract class\n",
    "class Shape(ABC):\n",
    "    \n",
    "    @abstractmethod\n",
    "    def area(self):\n",
    "        pass\n",
    "\n",
    "# Concrete subclass\n",
    "class Circle(Shape):\n",
    "    def __init__(self, radius):\n",
    "        self.radius = radius\n",
    "\n",
    "    def area(self):\n",
    "        return 3.14 * self.radius * self.radius\n",
    "\n",
    "# Using abstraction\n",
    "circle = Circle(5)\n",
    "print(circle.area())  # Output: 78.5\n"
   ]
  },
  {
   "cell_type": "markdown",
   "id": "35ed86aa-dad9-4d84-9da4-c1b850c9ad67",
   "metadata": {},
   "source": [
    "### Operator overloading"
   ]
  },
  {
   "cell_type": "code",
   "execution_count": 20,
   "id": "be24d535-57c5-450b-a2f9-14fda5c20111",
   "metadata": {},
   "outputs": [],
   "source": [
    "class Number:\n",
    "    def __init__(self,n):\n",
    "        self.n=n\n",
    "    def __add__(self,a):\n",
    "        return self.n + a.n\n",
    "        \n",
    "n=Number(1)\n",
    "m=Number(2)"
   ]
  },
  {
   "cell_type": "code",
   "execution_count": 21,
   "id": "2269805a-bf67-48f9-87b7-5152f021b0b7",
   "metadata": {},
   "outputs": [
    {
     "data": {
      "text/plain": [
       "3"
      ]
     },
     "execution_count": 21,
     "metadata": {},
     "output_type": "execute_result"
    }
   ],
   "source": [
    "n+m"
   ]
  },
  {
   "cell_type": "code",
   "execution_count": 18,
   "id": "cf88bf16-71a6-421e-a28e-7a23d2ce3720",
   "metadata": {},
   "outputs": [],
   "source": [
    "class Point():\n",
    "    def __init__(self, x, y):\n",
    "        self.x = x\n",
    "        self.y = y\n",
    "        print(f'Point {self.x,self.y} created!')\n",
    "        \n",
    "    def __add__(self,b):\n",
    "        return self.x + b.x, self.y + b.y\n",
    "    \n",
    "    def __sub__(self,b):\n",
    "        return self.x - b.x, self.y - b.y\n",
    "    \n",
    "    def __mul__(self,b):\n",
    "        return self.x * b.x, self.y * b.y\n",
    "    \n",
    "    def __truediv__(self,b):\n",
    "        return self.x / b.x, self.y / b.y\n",
    "    \n",
    "    def length(self):\n",
    "        return ((self.x-0)**2+(self.y-0)**2)**(1/2)\n",
    "        \n",
    "    def __gt__(self,b):\n",
    "        return self.length()> b.length()\n",
    "    \n",
    "    def __ge__(self,b):\n",
    "        return self.length()>= b.length()\n",
    "    \n",
    "    def __lt__(self,b):\n",
    "        return self.length()< b.length()\n",
    "    \n",
    "    def __le__(self,b):\n",
    "        return self.length() <= b.length()\n",
    "    \n",
    "    def __eq__(self,b):\n",
    "        return self.length() == b.length()"
   ]
  },
  {
   "cell_type": "code",
   "execution_count": 19,
   "id": "998ee785-ecc8-44cf-860b-283c6470edef",
   "metadata": {},
   "outputs": [
    {
     "name": "stdout",
     "output_type": "stream",
     "text": [
      "Point (10, 20) created!\n",
      "Point (20, 40) created!\n"
     ]
    },
    {
     "data": {
      "text/plain": [
       "(30, 60)"
      ]
     },
     "execution_count": 19,
     "metadata": {},
     "output_type": "execute_result"
    }
   ],
   "source": [
    "p1=Point(10,20)\n",
    "p2=Point(20,40)\n",
    "p1+p2"
   ]
  },
  {
   "cell_type": "markdown",
   "id": "8432fb6d-4e65-4c04-ac4c-1b24c223524f",
   "metadata": {},
   "source": [
    "### 1. Create a class (2-D vector) and use it to create another class representing a 3-D vector"
   ]
  },
  {
   "cell_type": "code",
   "execution_count": 23,
   "id": "17f7989f-9681-4d72-a988-2549232d7909",
   "metadata": {},
   "outputs": [],
   "source": [
    "class twoDVector:\n",
    "    def __init__(self,i,j):\n",
    "        self.i=i\n",
    "        self.j=j\n",
    "    def show(self):\n",
    "        print(f'The vector is {self.i}i + {self.j}j')\n",
    "        \n",
    "class threeDVector(twoDVector):\n",
    "    def __init__(self,i,j,k):\n",
    "        super().__init__(i,j)\n",
    "        self.k=k\n",
    "    def show(self):\n",
    "        print(f'The vector is {self.i}i + {self.j}j + {self.k}k')"
   ]
  },
  {
   "cell_type": "code",
   "execution_count": 24,
   "id": "5bc0027e-d8e3-4f48-909b-022c85df489f",
   "metadata": {},
   "outputs": [
    {
     "name": "stdout",
     "output_type": "stream",
     "text": [
      "The vector is 2i + 3j\n",
      "The vector is 2i + 3j + 4k\n"
     ]
    }
   ],
   "source": [
    "o=twoDVector(2,3)\n",
    "o.show()\n",
    "\n",
    "o1=threeDVector(2,3,4)\n",
    "o1.show()"
   ]
  },
  {
   "cell_type": "markdown",
   "id": "24676726-462c-4359-8cac-a7c0c4fa48b6",
   "metadata": {},
   "source": [
    "### 2. Create a class ‘Pets’ from a class ‘Animals’ and further create a class ‘Dog’ fro ‘Pets’. Add a method ‘bark’ to class ‘Dog’."
   ]
  },
  {
   "cell_type": "code",
   "execution_count": 25,
   "id": "e5e15500-1990-45b5-9645-25608606109f",
   "metadata": {},
   "outputs": [],
   "source": [
    "class Animals:\n",
    "    pass\n",
    "class Pets(Animals):\n",
    "    pass\n",
    "class Dog(Pets):\n",
    "    @staticmethod\n",
    "    def bark():\n",
    "        print('bowwww')"
   ]
  },
  {
   "cell_type": "code",
   "execution_count": 26,
   "id": "3b166cbd-3278-479e-8367-550d396209cc",
   "metadata": {},
   "outputs": [
    {
     "name": "stdout",
     "output_type": "stream",
     "text": [
      "bowwww\n"
     ]
    }
   ],
   "source": [
    "o=Dog()\n",
    "o.bark()"
   ]
  },
  {
   "cell_type": "markdown",
   "id": "9a71092a-f27c-437d-9b54-ada442daac6e",
   "metadata": {},
   "source": [
    "### 3. Create a class ‘Employee’ and add salary and increment properties to it\n",
    "Write a method ‘salaryAfterIncrement’ method with a @property decorator with a setter\r\n",
    "which changes the value of increment based on the salary.\r"
   ]
  },
  {
   "cell_type": "code",
   "execution_count": 30,
   "id": "d7f3b028-e80f-4b4d-a54e-e8b8938be782",
   "metadata": {},
   "outputs": [],
   "source": [
    "class Employee:\n",
    "    salary=230\n",
    "    increment=20\n",
    "    @property\n",
    "    def salary_after_increment(self):\n",
    "        return (self.salary+(self.salary*self.increment/100))\n",
    "\n",
    "    @salary_after_increment.setter\n",
    "    def salary_after_increment(self,salary):\n",
    "        self.increment = ((salary/self.salary)-1)*100"
   ]
  },
  {
   "cell_type": "code",
   "execution_count": 31,
   "id": "ad32a0e7-ae0f-47e4-8f7a-18e0fac7a24f",
   "metadata": {},
   "outputs": [
    {
     "name": "stdout",
     "output_type": "stream",
     "text": [
      "21.739130434782616\n"
     ]
    }
   ],
   "source": [
    "e=Employee()\n",
    "e.salary_after_increment=280\n",
    "print(e.increment)"
   ]
  },
  {
   "cell_type": "markdown",
   "id": "33c4e4ec-6374-4c91-8dfb-0fa38c0569f5",
   "metadata": {},
   "source": [
    "### 4. Write a class ‘Complex’ to represent complex numbers, along with overloaded operators ‘+’ and ‘*’ which adds and multiplies them."
   ]
  },
  {
   "cell_type": "code",
   "execution_count": 41,
   "id": "a00478c0-9cf8-4e18-af35-bb69d10215a3",
   "metadata": {},
   "outputs": [
    {
     "name": "stdout",
     "output_type": "stream",
     "text": [
      "4 + 6i\n",
      "-5 + 10i\n"
     ]
    }
   ],
   "source": [
    "class Complex:\n",
    "    def __init__(self, r, i):\n",
    "        self.r = r\n",
    "        self.i = i\n",
    "\n",
    "    def __add__(self, c2):\n",
    "        return Complex(self.r + c2.r, self.i + c2.i)\n",
    "    \n",
    "    def __mul__(self, c2):\n",
    "        real_part = self.r * c2.r - self.i * c2.i\n",
    "        imag_part = self.r * c2.i + self.i * c2.r\n",
    "        return Complex(real_part, imag_part)\n",
    "    \n",
    "    def __str__(self):\n",
    "        return f\"{self.r} + {self.i}i\"\n",
    "        \n",
    "    \n",
    "\n",
    "c1 = Complex(1, 2)\n",
    "c2 = Complex(3, 4)\n",
    "print(c1 + c2)\n",
    "print(c1*c2)"
   ]
  },
  {
   "cell_type": "markdown",
   "id": "dc9b1dcd-88fa-4565-b7ef-1c2fab415b58",
   "metadata": {},
   "source": [
    "### 5. Write a class vector representing a vector of n dimensions. Overload the + and * \n",
    "operator which calculates the sum and the dot(.) product of them."
   ]
  },
  {
   "cell_type": "code",
   "execution_count": 42,
   "id": "87c0f489-7cda-4ebf-af86-1f2b52076c47",
   "metadata": {},
   "outputs": [
    {
     "name": "stdout",
     "output_type": "stream",
     "text": [
      "Vector(5, 7, 9)\n",
      "32\n",
      "Vector(8, 10, 12)\n",
      "50\n"
     ]
    }
   ],
   "source": [
    "class Vector:\n",
    "    def __init__(self, x, y, z):\n",
    "        self.x = x\n",
    "        self.y = y\n",
    "        self.z = z\n",
    "\n",
    "    def __add__(self, other):\n",
    "        result = Vector(self.x + other.x, self.y + other.y, self.z + other.z)\n",
    "        return result\n",
    "\n",
    "    def __mul__(self, other):\n",
    "        result = self.x * other.x + self.y * other.y + self.z * other.z\n",
    "        return result\n",
    "\n",
    "    def __str__(self):\n",
    "        return f\"Vector({self.x}, {self.y}, {self.z})\"\n",
    "\n",
    "# Test the implementation\n",
    "v1 = Vector(1, 2, 3)\n",
    "v2 = Vector(4, 5, 6)\n",
    "v3 = Vector(7, 8, 9)  # Same dimension vector\n",
    "\n",
    "print(v1 + v2)  # Output: Vector(5, 7, 9)\n",
    "print(v1 * v2)  # Output: 32\n",
    "\n",
    "print(v1 + v3)  # Output: Vector(8, 10, 12)\n",
    "print(v1 * v3)  # Output: 50"
   ]
  },
  {
   "cell_type": "markdown",
   "id": "a425246b-a0c9-4973-b7fb-5f5d76ba0728",
   "metadata": {},
   "source": [
    "### 6. Write __str__() method to print the vector as follows:\n",
    " 7i + 8j +10k\n",
    "Assume vector of dimension 3 for this problem."
   ]
  },
  {
   "cell_type": "code",
   "execution_count": 43,
   "id": "43038b42-c814-4aa2-ac66-bfc35a085d95",
   "metadata": {},
   "outputs": [
    {
     "name": "stdout",
     "output_type": "stream",
     "text": [
      "5i + 7j + 9k\n",
      "32\n",
      "8i + 10j + 12k\n",
      "50\n"
     ]
    }
   ],
   "source": [
    "class Vector:\n",
    "    def __init__(self, x, y, z):\n",
    "        self.x = x\n",
    "        self.y = y\n",
    "        self.z = z\n",
    "\n",
    "    def __add__(self, other):\n",
    "        result = Vector(self.x + other.x, self.y + other.y, self.z + other.z)\n",
    "        return result\n",
    "\n",
    "    def __mul__(self, other):\n",
    "        result = self.x * other.x + self.y * other.y + self.z * other.z\n",
    "        return result\n",
    "\n",
    "    def __str__(self):\n",
    "        return f\"{self.x}i + {self.y}j + {self.z}k\"\n",
    "\n",
    "# Test the implementation\n",
    "v1 = Vector(1, 2, 3)\n",
    "v2 = Vector(4, 5, 6)\n",
    "v3 = Vector(7, 8, 9)  # Same dimension vector\n",
    "\n",
    "print(v1 + v2)  # Output: Vector(5, 7, 9)\n",
    "print(v1 * v2)  # Output: 32\n",
    "\n",
    "print(v1 + v3)  # Output: Vector(8, 10, 12)\n",
    "print(v1 * v3)  # Output: 50"
   ]
  },
  {
   "cell_type": "markdown",
   "id": "d538cc12-58e9-459e-a79d-554db96d830b",
   "metadata": {},
   "source": [
    "### 7. Override the __len__() method on vector of problem 5 to display the dimension of the vector."
   ]
  },
  {
   "cell_type": "code",
   "execution_count": 44,
   "id": "55fef676-00d0-4545-b7e5-1ed659ee38b0",
   "metadata": {},
   "outputs": [
    {
     "name": "stdout",
     "output_type": "stream",
     "text": [
      "3\n"
     ]
    }
   ],
   "source": [
    "class Vector:\n",
    "    def __init__(self, l): \n",
    "        self.l = l\n",
    "\n",
    "    \n",
    "    \n",
    "    def __len__(self):\n",
    "        return len(self.l)\n",
    "\n",
    "# Test the implementation\n",
    "v1 = Vector([1, 2, 3]) \n",
    "print(len(v1))"
   ]
  },
  {
   "cell_type": "code",
   "execution_count": null,
   "id": "abf85320-1b25-493e-b6e1-2df089eaf607",
   "metadata": {},
   "outputs": [],
   "source": []
  }
 ],
 "metadata": {
  "kernelspec": {
   "display_name": "Python 3 (ipykernel)",
   "language": "python",
   "name": "python3"
  },
  "language_info": {
   "codemirror_mode": {
    "name": "ipython",
    "version": 3
   },
   "file_extension": ".py",
   "mimetype": "text/x-python",
   "name": "python",
   "nbconvert_exporter": "python",
   "pygments_lexer": "ipython3",
   "version": "3.12.4"
  }
 },
 "nbformat": 4,
 "nbformat_minor": 5
}
