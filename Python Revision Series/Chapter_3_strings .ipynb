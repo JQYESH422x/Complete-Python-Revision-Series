{
 "cells": [
  {
   "cell_type": "code",
   "execution_count": 1,
   "id": "a60473f3-83f7-4061-a115-9440d92fabff",
   "metadata": {},
   "outputs": [],
   "source": [
    "name = 'Harry'"
   ]
  },
  {
   "cell_type": "code",
   "execution_count": 2,
   "id": "0142595a-34d4-46c5-81e0-a6d5ab025ceb",
   "metadata": {},
   "outputs": [
    {
     "name": "stdout",
     "output_type": "stream",
     "text": [
      "Har\n",
      "arr\n",
      "arr\n"
     ]
    }
   ],
   "source": [
    "print(name[0:3])\n",
    "print(name[-4:-1])\n",
    "print(name[1:4]) # it is same as print(name[-4:-1])"
   ]
  },
  {
   "cell_type": "code",
   "execution_count": 3,
   "id": "8bbdda65-63a5-40b3-94d7-a681b014369a",
   "metadata": {},
   "outputs": [
    {
     "name": "stdout",
     "output_type": "stream",
     "text": [
      "Harry\n",
      "arry\n",
      "Har\n"
     ]
    }
   ],
   "source": [
    "print(name[:])\n",
    "print(name[1:]) #same as name[1:5]\n",
    "print(name[:3]) #same as name[0:3]"
   ]
  },
  {
   "cell_type": "code",
   "execution_count": 4,
   "id": "4a5bbd75-3e39-4cff-8088-9e02e96ec97e",
   "metadata": {},
   "outputs": [
    {
     "data": {
      "text/plain": [
       "'vsss'"
      ]
     },
     "execution_count": 4,
     "metadata": {},
     "output_type": "execute_result"
    }
   ],
   "source": [
    "a = 'avdjhsriosjidskfojujfhewujfihjef'\n",
    "a[1:15:4]"
   ]
  },
  {
   "cell_type": "code",
   "execution_count": 5,
   "id": "83bb6e85-c57a-429e-b3d1-66ad75b3d225",
   "metadata": {},
   "outputs": [
    {
     "data": {
      "text/plain": [
       "'vdjhsriosjidsk'"
      ]
     },
     "execution_count": 5,
     "metadata": {},
     "output_type": "execute_result"
    }
   ],
   "source": [
    "a[1:15]"
   ]
  },
  {
   "cell_type": "code",
   "execution_count": 6,
   "id": "16e6ee81-db8d-4c38-b5ca-6b957c83c4de",
   "metadata": {},
   "outputs": [
    {
     "name": "stdout",
     "output_type": "stream",
     "text": [
      "5\n"
     ]
    }
   ],
   "source": [
    "print(len(name))"
   ]
  },
  {
   "cell_type": "code",
   "execution_count": 7,
   "id": "5a26c557-0f26-42ad-a1af-198415e7a491",
   "metadata": {},
   "outputs": [
    {
     "name": "stdout",
     "output_type": "stream",
     "text": [
      "HARRY\n",
      "harry\n",
      "Harry\n",
      "hARRY\n",
      "Harry\n",
      "2\n",
      "Hajjy\n",
      "Hajjy\n"
     ]
    }
   ],
   "source": [
    "print(name.upper())\n",
    "print(name.lower())\n",
    "print(name.capitalize())\n",
    "print(name.swapcase())\n",
    "print(name.title())\n",
    "print(name.count('r'))\n",
    "print(name.replace('r','j'))\n",
    "print(name.replace('r','j'))\n"
   ]
  },
  {
   "cell_type": "code",
   "execution_count": 9,
   "id": "2357d072-e1fc-4e53-99b1-ad6989887def",
   "metadata": {},
   "outputs": [
    {
     "name": "stdout",
     "output_type": "stream",
     "text": [
      "Jayesh Nikumbh\n",
      "     Jayesh Nikumbh\n",
      "Jayesh Nikumbh      \n"
     ]
    }
   ],
   "source": [
    "name='     Jayesh Nikumbh      '\n",
    "print(name.strip())\n",
    "print(name.rstrip())\n",
    "print(name.lstrip())"
   ]
  },
  {
   "cell_type": "code",
   "execution_count": 12,
   "id": "7506b3c5-ca20-46ec-a6c7-2eafe76ae701",
   "metadata": {},
   "outputs": [
    {
     "name": "stdout",
     "output_type": "stream",
     "text": [
      "8\n",
      "8\n"
     ]
    }
   ],
   "source": [
    "print(name.find('e'))\n",
    "print(name.index('e'))\n"
   ]
  },
  {
   "cell_type": "code",
   "execution_count": 13,
   "id": "75c5dd92-e29a-4d67-a5f1-30754a1002c1",
   "metadata": {},
   "outputs": [
    {
     "data": {
      "text/plain": [
       "('', ' ', '    Jayesh Nikumbh      ')"
      ]
     },
     "execution_count": 13,
     "metadata": {},
     "output_type": "execute_result"
    }
   ],
   "source": [
    "name.partition(' ')"
   ]
  },
  {
   "cell_type": "code",
   "execution_count": 14,
   "id": "4b203193-c1e6-4a1f-8128-c5e7b92bf5e8",
   "metadata": {},
   "outputs": [
    {
     "data": {
      "text/plain": [
       "['Jayesh', 'Nikumbh']"
      ]
     },
     "execution_count": 14,
     "metadata": {},
     "output_type": "execute_result"
    }
   ],
   "source": [
    "name.split()"
   ]
  },
  {
   "cell_type": "code",
   "execution_count": 15,
   "id": "b8a5e84d-6a87-4619-95fe-c4cdebdcd59c",
   "metadata": {},
   "outputs": [
    {
     "data": {
      "text/plain": [
       "[\"Fear of failure is higher when you're not working on the problem. \",\n",
       " 'If you are taking action, you are less worried about failure, ',\n",
       " 'Because you realize you can influence the outcome.']"
      ]
     },
     "execution_count": 15,
     "metadata": {},
     "output_type": "execute_result"
    }
   ],
   "source": [
    "motivation = \"\"\"Fear of failure is higher when you're not working on the problem. \n",
    "If you are taking action, you are less worried about failure, \n",
    "Because you realize you can influence the outcome.\"\"\"\n",
    "\n",
    "motivation.splitlines()"
   ]
  },
  {
   "cell_type": "code",
   "execution_count": 18,
   "id": "67d66fb1-f4b7-4655-a3ec-660284406fb5",
   "metadata": {},
   "outputs": [
    {
     "name": "stdout",
     "output_type": "stream",
     "text": [
      "The value of pi is 3.141592653589793\n"
     ]
    }
   ],
   "source": [
    "import math\n",
    "print(\"The value of pi is {}\".format(math.pi))"
   ]
  },
  {
   "cell_type": "code",
   "execution_count": 25,
   "id": "3446646c-2afe-427e-a6a5-7aeed56b5678",
   "metadata": {},
   "outputs": [
    {
     "name": "stdout",
     "output_type": "stream",
     "text": [
      "Jayesh\n",
      "Nikumbh\n",
      "Jayesh\tNikumbh\n",
      "Jayesh ' Sunil ' Nikumbh\n"
     ]
    }
   ],
   "source": [
    "name='Jayesh\\nNikumbh'\n",
    "print(name)\n",
    "name='Jayesh\\tNikumbh'\n",
    "print(name)\n",
    "name='Jayesh \\' Sunil \\' Nikumbh'\n",
    "print(name)"
   ]
  },
  {
   "attachments": {
    "a348b406-cad5-4d74-bfc5-0540811a7257.png": {
     "image/png": "[encoded data removed]"
    }
   },
   "cell_type": "markdown",
   "id": "78fa7907-e35a-47f4-a052-5c03ada8ac53",
   "metadata": {},
   "source": [
    "![image.png](attachment:a348b406-cad5-4d74-bfc5-0540811a7257.png)"
   ]
  },
  {
   "cell_type": "code",
   "execution_count": 28,
   "id": "86932a81-9e76-4a6f-97da-2c165d15dad4",
   "metadata": {},
   "outputs": [
    {
     "name": "stdin",
     "output_type": "stream",
     "text": [
      "Enter your name :  Jayesh\n"
     ]
    },
    {
     "name": "stdout",
     "output_type": "stream",
     "text": [
      "Good Afternoon , Jayesh\n",
      "Good Afternoon , Jayesh\n"
     ]
    }
   ],
   "source": [
    "name = input('Enter your name : ')\n",
    "print('Good Afternoon ,', name)\n",
    "print(f'Good Afternoon , {name}')"
   ]
  },
  {
   "cell_type": "code",
   "execution_count": 34,
   "id": "23b98f08-c544-4264-8642-9ca48e96a43c",
   "metadata": {},
   "outputs": [
    {
     "name": "stdin",
     "output_type": "stream",
     "text": [
      "Enter Name :  Jayesh\n",
      "Enter Date :  15/09/24\n"
     ]
    },
    {
     "name": "stdout",
     "output_type": "stream",
     "text": [
      "  \n",
      "Dear Jayesh, \n",
      "You are selected! \n",
      "15/09/24 \n",
      "\n"
     ]
    },
    {
     "name": "stdin",
     "output_type": "stream",
     "text": [
      "Enter Name :  Jayesh\n",
      "Enter Date :  15/09/24\n"
     ]
    },
    {
     "name": "stdout",
     "output_type": "stream",
     "text": [
      "  \n",
      "Dear Jayesh, \n",
      "You are selected! \n",
      "15/09/24 \n",
      "\n"
     ]
    }
   ],
   "source": [
    "letter = '''  \n",
    "Dear <|Name|>, \n",
    "You are selected! \n",
    "<|Date|> \n",
    "''' \n",
    "updated_letter=letter.replace('<|Name|>',input('Enter Name : '))\n",
    "updated_letter=updated_letter.replace('<|Date|>',input('Enter Date : '))\n",
    "print(updated_letter)\n",
    "\n",
    "# or (chaining)\n",
    "\n",
    "print(letter.replace('<|Name|>',input('Enter Name : ')).replace('<|Date|>',input('Enter Date : ')))"
   ]
  },
  {
   "cell_type": "code",
   "execution_count": 37,
   "id": "7c16ecb4-3052-4085-8147-ee72d1db0f2f",
   "metadata": {},
   "outputs": [
    {
     "name": "stdout",
     "output_type": "stream",
     "text": [
      "9\n",
      "1\n"
     ]
    }
   ],
   "source": [
    "paragraph = 'Jayesh is  a good boy'\n",
    "print(paragraph.find('  ')) #returns -1 if not found\n",
    "print(paragraph.count('  '))"
   ]
  },
  {
   "cell_type": "code",
   "execution_count": 39,
   "id": "f2b3bc9c-5f27-448f-99d7-7de396e31dc9",
   "metadata": {},
   "outputs": [
    {
     "data": {
      "text/plain": [
       "'Jayesh is a good boy'"
      ]
     },
     "execution_count": 39,
     "metadata": {},
     "output_type": "execute_result"
    }
   ],
   "source": [
    "paragraph = 'Jayesh is  a good boy'\n",
    "paragraph.replace('  ',' ') #strings are immutable we cant change it "
   ]
  },
  {
   "cell_type": "code",
   "execution_count": 43,
   "id": "67f1fd5b-d072-45d5-9983-4153291e137e",
   "metadata": {},
   "outputs": [
    {
     "name": "stdout",
     "output_type": "stream",
     "text": [
      "Dear Harry,\n",
      "\tThis python course is nice.\n",
      "Thanks!\n"
     ]
    }
   ],
   "source": [
    "letter = \"Dear Harry,\\n\\tThis python course is nice.\\nThanks!\"\n",
    "print(letter)"
   ]
  },
  {
   "cell_type": "code",
   "execution_count": null,
   "id": "4d3efae9-d604-4ea3-8281-30ec97131420",
   "metadata": {},
   "outputs": [],
   "source": []
  }
 ],
 "metadata": {
  "kernelspec": {
   "display_name": "Python 3 (ipykernel)",
   "language": "python",
   "name": "python3"
  },
  "language_info": {
   "codemirror_mode": {
    "name": "ipython",
    "version": 3
   },
   "file_extension": ".py",
   "mimetype": "text/x-python",
   "name": "python",
   "nbconvert_exporter": "python",
   "pygments_lexer": "ipython3",
   "version": "3.12.4"
  }
 },
 "nbformat": 4,
 "nbformat_minor": 5
}
