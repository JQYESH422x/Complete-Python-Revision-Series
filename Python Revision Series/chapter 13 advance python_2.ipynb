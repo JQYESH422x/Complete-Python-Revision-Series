{
 "cells": [
  {
   "cell_type": "markdown",
   "id": "6556760f-b891-4cc7-ad30-35dec3c6e254",
   "metadata": {},
   "source": [
    "### Lambda function"
   ]
  },
  {
   "cell_type": "code",
   "execution_count": 1,
   "id": "3b88c4b5-d781-4209-88db-0a3f89b459c4",
   "metadata": {},
   "outputs": [
    {
     "name": "stdout",
     "output_type": "stream",
     "text": [
      "25\n"
     ]
    }
   ],
   "source": [
    "# def square(n):\n",
    "#     return n*n \n",
    "\n",
    "square = lambda x: x*x\n",
    "\n",
    "print(square(5))"
   ]
  },
  {
   "cell_type": "markdown",
   "id": "c3685259-663f-4b03-9b92-4fd45df3b5a8",
   "metadata": {},
   "source": [
    "### join funtion"
   ]
  },
  {
   "cell_type": "code",
   "execution_count": 2,
   "id": "ca1b7ceb-45fb-4e64-8393-f672d908bf62",
   "metadata": {},
   "outputs": [
    {
     "name": "stdout",
     "output_type": "stream",
     "text": [
      "Harry::Rohan::Shubham\n"
     ]
    }
   ],
   "source": [
    "a = [\"Harry\", \"Rohan\", \"Shubham\"]\n",
    "\n",
    "final = \"::\".join(a)\n",
    "print(final)"
   ]
  },
  {
   "cell_type": "markdown",
   "id": "574f1f6f-131c-4a24-80af-db5b73534101",
   "metadata": {},
   "source": [
    "### Format function"
   ]
  },
  {
   "cell_type": "code",
   "execution_count": 3,
   "id": "5e92bf1f-282d-4936-9474-fa1a5b1ef0bb",
   "metadata": {},
   "outputs": [
    {
     "name": "stdout",
     "output_type": "stream",
     "text": [
      "boy is a good harry\n"
     ]
    }
   ],
   "source": [
    "a = \"{1} is a good {0}\".format(\"harry\", \"boy\")\n",
    "\n",
    "print(a)"
   ]
  },
  {
   "cell_type": "markdown",
   "id": "d4e51f3b-ad25-44af-8bed-75a23572df5d",
   "metadata": {},
   "source": [
    "### Map,filter and reduce "
   ]
  },
  {
   "cell_type": "code",
   "execution_count": 4,
   "id": "765e34d6-3abd-40a1-ac86-174e57421f34",
   "metadata": {},
   "outputs": [
    {
     "name": "stdout",
     "output_type": "stream",
     "text": [
      "[1, 4, 9, 16, 25]\n",
      "[2, 4]\n",
      "15\n",
      "120\n"
     ]
    }
   ],
   "source": [
    "from functools import reduce\n",
    "# Map Example \n",
    "l = [1, 2, 3, 4, 5]\n",
    "\n",
    "square = lambda x: x*x\n",
    "\n",
    "sqList = map(square, l)\n",
    "print(list(sqList))\n",
    "\n",
    "# Filter Example\n",
    "def even(n):\n",
    "    if (n%2 == 0):\n",
    "        return True \n",
    "    return False\n",
    "\n",
    "onlyEven= filter(even, l)\n",
    "print(list(onlyEven))\n",
    "\n",
    "# Reduce Example\n",
    "def sum(a, b):\n",
    "    return a + b\n",
    "\n",
    "mul = lambda x,y:x*y\n",
    "\n",
    "print(reduce(sum, l))\n",
    "print(reduce(mul, l))"
   ]
  },
  {
   "cell_type": "markdown",
   "id": "e2750b4e-c427-434b-a7d9-0365d6ca192a",
   "metadata": {},
   "source": [
    "### 2. Write a program to input name, marks and phone number of a student and format it using the format function like below:\n",
    "“The name of the student is Harry, his marks are 72 and phone number is 99999888”\n"
   ]
  },
  {
   "cell_type": "code",
   "execution_count": 5,
   "id": "abb0624d-eb2c-4a8b-9067-f84666f8a2d8",
   "metadata": {},
   "outputs": [
    {
     "name": "stdin",
     "output_type": "stream",
     "text": [
      "Enter name:  2\n",
      "Enter marks:  34\n",
      "Phone number:  234687654\n"
     ]
    },
    {
     "name": "stdout",
     "output_type": "stream",
     "text": [
      "The name of the student is 2, his marks are 34 and phone number is 234687654\n"
     ]
    }
   ],
   "source": [
    "name = input(\"Enter name: \")\n",
    "marks = int(input(\"Enter marks: \"))\n",
    "phone = int(input(\"Phone number: \"))\n",
    "\n",
    "s = \"The name of the student is {}, his marks are {} and phone number is {}\".format(name, marks, phone)\n",
    "\n",
    "print(s)"
   ]
  },
  {
   "cell_type": "markdown",
   "id": "e1e85cf8-9c2b-4dd2-9841-b7d90706e5c5",
   "metadata": {},
   "source": [
    "### 3. A list contains the multiplication table of 7. write a program to convert it to vertical string of same numbers."
   ]
  },
  {
   "cell_type": "code",
   "execution_count": 6,
   "id": "4607cd5e-0800-474d-9665-69bbd7a121f5",
   "metadata": {},
   "outputs": [
    {
     "name": "stdout",
     "output_type": "stream",
     "text": [
      "7\n",
      "14\n",
      "21\n",
      "28\n",
      "35\n",
      "42\n",
      "49\n",
      "56\n",
      "63\n",
      "70\n"
     ]
    }
   ],
   "source": [
    "table = [str(7*i) for i in range(1, 11)]\n",
    "\n",
    "s = \"\\n\".join(table)\n",
    "print(s)"
   ]
  },
  {
   "cell_type": "markdown",
   "id": "f48d920d-a117-4dae-87f9-3c68b74785f0",
   "metadata": {},
   "source": [
    "### 4. Write a program to filter a list of numbers which are divisible by 5.\n"
   ]
  },
  {
   "cell_type": "code",
   "execution_count": 7,
   "id": "ddea8d1a-a79c-4bc9-894a-1e70e81f97c5",
   "metadata": {},
   "outputs": [
    {
     "name": "stdout",
     "output_type": "stream",
     "text": [
      "[6234235, 65, 45, 55]\n"
     ]
    }
   ],
   "source": [
    "def divisible5(n):\n",
    "    if(n%5 == 0):\n",
    "        return True\n",
    "    return False\n",
    "\n",
    "a  = [1,2,34234,53,6234235,64343, 65,754,45,55]\n",
    "\n",
    "f = list(filter(divisible5, a))\n",
    "print(f)"
   ]
  },
  {
   "cell_type": "markdown",
   "id": "a1c6ccf9-be9b-4f34-bab8-f762747ae2f9",
   "metadata": {},
   "source": [
    "### 5. Write a program to find the maximum of the numbers in a list using the reduce function.\n"
   ]
  },
  {
   "cell_type": "code",
   "execution_count": 8,
   "id": "f8319094-3f38-4232-86a6-2df321fc4685",
   "metadata": {},
   "outputs": [
    {
     "name": "stdout",
     "output_type": "stream",
     "text": [
      "5553\n"
     ]
    }
   ],
   "source": [
    "from functools import reduce\n",
    "l  = [111, 2, 65, 5553, 635, 65, 74, 45,55]\n",
    "\n",
    "\n",
    "def greater(a, b):\n",
    "    if (a>b):\n",
    "        return a \n",
    "    return b\n",
    "\n",
    "print(reduce(greater, l))"
   ]
  },
  {
   "cell_type": "markdown",
   "id": "8c3f940d-385e-4ffc-9946-f3fda1b46bf1",
   "metadata": {},
   "source": [
    "### Explore the ‘Flask’ module and create a web server using Flask & Python. "
   ]
  },
  {
   "cell_type": "code",
   "execution_count": null,
   "id": "7c043724-7872-459f-91ae-5c8919fc8906",
   "metadata": {},
   "outputs": [
    {
     "name": "stdout",
     "output_type": "stream",
     "text": [
      " * Serving Flask app '__main__'\n",
      " * Debug mode: off\n"
     ]
    },
    {
     "name": "stderr",
     "output_type": "stream",
     "text": [
      "WARNING: This is a development server. Do not use it in a production deployment. Use a production WSGI server instead.\n",
      " * Running on http://127.0.0.1:5000\n",
      "Press CTRL+C to quit\n",
      "127.0.0.1 - - [29/Sep/2024 18:31:26] \"GET / HTTP/1.1\" 200 -\n",
      "127.0.0.1 - - [29/Sep/2024 18:31:26] \"GET /favicon.ico HTTP/1.1\" 404 -\n"
     ]
    }
   ],
   "source": [
    "from flask import Flask\n",
    "\n",
    "app = Flask(__name__)\n",
    "\n",
    "@app.route(\"/\")\n",
    "def hello_world():\n",
    "    return \"<p>Hello, World!</p>\"\n",
    "\n",
    "app.run()"
   ]
  },
  {
   "cell_type": "code",
   "execution_count": null,
   "id": "d55e5387-5e86-4390-ac35-16d0183444e1",
   "metadata": {},
   "outputs": [],
   "source": []
  }
 ],
 "metadata": {
  "kernelspec": {
   "display_name": "Python 3 (ipykernel)",
   "language": "python",
   "name": "python3"
  },
  "language_info": {
   "codemirror_mode": {
    "name": "ipython",
    "version": 3
   },
   "file_extension": ".py",
   "mimetype": "text/x-python",
   "name": "python",
   "nbconvert_exporter": "python",
   "pygments_lexer": "ipython3",
   "version": "3.12.4"
  }
 },
 "nbformat": 4,
 "nbformat_minor": 5
}
