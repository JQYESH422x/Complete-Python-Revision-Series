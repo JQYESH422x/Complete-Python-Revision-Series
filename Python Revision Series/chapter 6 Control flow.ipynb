{
 "cells": [
  {
   "cell_type": "code",
   "execution_count": 2,
   "id": "46d4ca43-ef2c-485c-8930-053afdf66fd1",
   "metadata": {},
   "outputs": [
    {
     "name": "stdin",
     "output_type": "stream",
     "text": [
      "Enter your age :  41\n"
     ]
    },
    {
     "name": "stdout",
     "output_type": "stream",
     "text": [
      "You are eligible\n"
     ]
    }
   ],
   "source": [
    "a = int(input('Enter your age : '))\n",
    "\n",
    "#if statement 1\n",
    "if (a==0):\n",
    "    print('Invalid age')\n",
    "\n",
    "#if statement 2\n",
    "if (a>=18):\n",
    "    print('You are eligible')\n",
    "elif (a<0):\n",
    "    print('Invalid age entered')\n",
    "else:\n",
    "    print('You are not eligible')\n",
    "\n",
    "print('End of')"
   ]
  },
  {
   "cell_type": "markdown",
   "id": "03350484-9f27-4bb7-af0d-ed0db98a5570",
   "metadata": {},
   "source": [
    "### Write a program to find the greatest of four numbers entered by the user."
   ]
  },
  {
   "cell_type": "code",
   "execution_count": 5,
   "id": "ff410325-d544-4aed-ad68-3a27dc6d6d3a",
   "metadata": {},
   "outputs": [
    {
     "name": "stdin",
     "output_type": "stream",
     "text": [
      "Enter number 1 : 44\n",
      "Enter number 2 : 33\n",
      "Enter number 3 : 23\n",
      "Enter number 4 : 12\n"
     ]
    },
    {
     "data": {
      "text/plain": [
       "44"
      ]
     },
     "execution_count": 5,
     "metadata": {},
     "output_type": "execute_result"
    }
   ],
   "source": [
    "l1=[]\n",
    "a1 = int(input(\"Enter number 1 :\"))\n",
    "a2 = int(input(\"Enter number 2 :\"))\n",
    "a3 = int(input(\"Enter number 3 :\"))\n",
    "a4 = int(input(\"Enter number 4 :\"))\n",
    "l1.append(a1)\n",
    "l1.append(a2)\n",
    "l1.append(a3)\n",
    "l1.append(a4)\n",
    "l1.sort()\n",
    "l1[3]\n",
    "\n"
   ]
  },
  {
   "cell_type": "code",
   "execution_count": 9,
   "id": "bd502358-9084-4457-a4d3-15be636d5221",
   "metadata": {},
   "outputs": [
    {
     "name": "stdin",
     "output_type": "stream",
     "text": [
      "Enter number 1 : 33\n",
      "Enter number 2 : 234\n",
      "Enter number 3 : 432\n",
      "Enter number 4 : 1\n"
     ]
    },
    {
     "name": "stdout",
     "output_type": "stream",
     "text": [
      "Greatest number is :  432\n"
     ]
    }
   ],
   "source": [
    "a1 = int(input(\"Enter number 1 :\"))\n",
    "a2 = int(input(\"Enter number 2 :\"))\n",
    "a3 = int(input(\"Enter number 3 :\"))\n",
    "a4 = int(input(\"Enter number 4 :\"))\n",
    "\n",
    "if (a1>a2 and a1>a3 and a1>a4):\n",
    "    print(\"Greatest number is : \",a1)\n",
    "elif (a2>a1 and a2>a3 and a2>a4):\n",
    "    print(\"Greatest number is : \",a2)\n",
    "elif (a3>a1 and a3>a2 and a3>a4):\n",
    "    print(\"Greatest number is : \",a3)\n",
    "else:\n",
    "    print(\"Greatest number is : \",a4)"
   ]
  },
  {
   "cell_type": "markdown",
   "id": "192810a0-6a1e-4ec4-81c0-25c24b8e9631",
   "metadata": {},
   "source": [
    "### Write a program to find out whether a student has passed or failed if it requires atotal of 40% and at least 33% in each subject to pass. Assume 3 subjects and take marks as an input from the user."
   ]
  },
  {
   "cell_type": "code",
   "execution_count": 14,
   "id": "126e2843-6fe2-4ea2-a5ec-eeab037eb7b4",
   "metadata": {},
   "outputs": [
    {
     "name": "stdin",
     "output_type": "stream",
     "text": [
      "Enter the marks of subject 1 45\n",
      "Enter the marks of subject 2 36\n",
      "Enter the marks of subject 3 80\n"
     ]
    },
    {
     "name": "stdout",
     "output_type": "stream",
     "text": [
      "you are passed :  53.666666666666664 %\n"
     ]
    }
   ],
   "source": [
    "mark1 = int(input('Enter the marks of subject 1'))\n",
    "mark2 = int(input('Enter the marks of subject 2'))\n",
    "mark3 = int(input('Enter the marks of subject 3'))\n",
    "\n",
    "total_p = ((mark1 + mark2 + mark3)/300)*100\n",
    "mark1_p= (mark1/100)*100\n",
    "mark2_p= (mark2/100)*100\n",
    "mark3_p= (mark3/100)*100\n",
    "\n",
    "if (total_p >= 40 and mark1_p >= 33 and mark2_p >= 33 and mark3_p >= 33):\n",
    "    print('you are passed : ',total_p,'%')\n",
    "    \n",
    "else:\n",
    "    print('you are failed : ',total_p,'%')\n",
    "\n",
    "\n",
    "    "
   ]
  },
  {
   "cell_type": "markdown",
   "id": "e4525371-02f4-4adc-a699-7f1484356a8a",
   "metadata": {},
   "source": [
    "### A spam comment is defined as a text containing following keywords:“Make a lot of money”, “buy now”, “subscribe this”, “click this”. Write a program to detect these spams."
   ]
  },
  {
   "cell_type": "code",
   "execution_count": 15,
   "id": "35bd507f-0253-41f8-b1ea-cc5115215be9",
   "metadata": {},
   "outputs": [
    {
     "name": "stdin",
     "output_type": "stream",
     "text": [
      "Enter Your comment :  please subscribe this\n"
     ]
    },
    {
     "name": "stdout",
     "output_type": "stream",
     "text": [
      "This comment is spam\n"
     ]
    }
   ],
   "source": [
    "p1 = 'Make a lot of money'\n",
    "p2 = 'buy now'\n",
    "p3 = 'subscribe this'\n",
    "p4 = 'click this'\n",
    "\n",
    "message = input('Enter Your comment : ')\n",
    "\n",
    "if ((p1 in message) or (p2 in message) or (p3 in message) or (p4 in message)):\n",
    "    print('This comment is spam')\n",
    "else:\n",
    "    print('This comment is not a spam')"
   ]
  },
  {
   "cell_type": "markdown",
   "id": "910f38c9-2c26-43bd-8a8a-15ee457032b3",
   "metadata": {},
   "source": [
    "### Write a program to find whether a given username contains less than 10 characters or not."
   ]
  },
  {
   "cell_type": "code",
   "execution_count": 17,
   "id": "5b90b61d-f653-4f15-b405-660ee46a3990",
   "metadata": {},
   "outputs": [
    {
     "name": "stdin",
     "output_type": "stream",
     "text": [
      "Enter username :  jayesh@2004\n"
     ]
    },
    {
     "name": "stdout",
     "output_type": "stream",
     "text": [
      "username with more than or equal to 10 charachter \n"
     ]
    }
   ],
   "source": [
    "a= input(\"Enter username : \")\n",
    "if len(a)>=10:\n",
    "    print('username with more than or equal to 10 charachter ')\n",
    "\n",
    "else:\n",
    "    print('username with less to 10 charachter')"
   ]
  },
  {
   "cell_type": "markdown",
   "id": "4efac1c5-231f-4006-aef7-65edeb6b25d7",
   "metadata": {},
   "source": [
    "### Write a program which finds out whether a given name is present in a list or not."
   ]
  },
  {
   "cell_type": "code",
   "execution_count": 18,
   "id": "e99dfc14-7b76-4d2a-91f3-d5bca5362d27",
   "metadata": {},
   "outputs": [
    {
     "name": "stdin",
     "output_type": "stream",
     "text": [
      "Enter your name :  jayesh\n"
     ]
    },
    {
     "name": "stdout",
     "output_type": "stream",
     "text": [
      "name allready exist in list \n"
     ]
    }
   ],
   "source": [
    "l1 = ['jayesh','om','anurag','chinu','monty']\n",
    "name=input(\"Enter your name : \")\n",
    "if name in l1:\n",
    "    print(\"name allready exist in list \")\n",
    "\n",
    "else:\n",
    "    print('name is not there in list')"
   ]
  },
  {
   "cell_type": "markdown",
   "id": "49a804cf-05cb-4560-bbc2-9aac4c433258",
   "metadata": {},
   "source": [
    "### Write a program to calculate the grade of a student from his marks from the\n",
    "### following scheme:\n",
    "### 90 – 100 => Ex\n",
    "### 80 – 90 => A\n",
    "### 70 – 80 => B\n",
    "### 60 – 70 =>C\n",
    "### 50 – 60 => D\n",
    "### <50 => F"
   ]
  },
  {
   "cell_type": "code",
   "execution_count": 26,
   "id": "a95f3caf-9667-494e-ac81-d2e607e8b194",
   "metadata": {},
   "outputs": [
    {
     "name": "stdin",
     "output_type": "stream",
     "text": [
      "Enter your marks : 88\n"
     ]
    },
    {
     "name": "stdout",
     "output_type": "stream",
     "text": [
      "Your grade is :  Ex\n"
     ]
    }
   ],
   "source": [
    "m = int(input(\"Enter your marks :\"))\n",
    "\n",
    "if ((m>=90) and (m<=100)):\n",
    "    grade = 'Ex'\n",
    "\n",
    "elif ((m>=80) and (m<=90)):\n",
    "    grade = 'Ex'\n",
    "\n",
    "elif ((m>=70) and (m<=80)):\n",
    "    grade = 'Ex'\n",
    "\n",
    "elif ((m>=60) and (m<=70)):\n",
    "    grade = 'Ex'\n",
    "\n",
    "elif ((m>=50) and (m<=60)):\n",
    "    grade = 'Ex'\n",
    "\n",
    "else: \n",
    "    grade = 'Ex'\n",
    "\n",
    "print(\"Your grade is : \",grade)"
   ]
  },
  {
   "cell_type": "markdown",
   "id": "0697fbb8-dab0-4534-bcba-3f891ddf1211",
   "metadata": {},
   "source": [
    "### Write a program to find out whether a given post is talking about “Harry” or not."
   ]
  },
  {
   "cell_type": "code",
   "execution_count": 28,
   "id": "e23f7f78-51d1-4c66-91d2-c17e09ee1c2c",
   "metadata": {},
   "outputs": [
    {
     "name": "stdout",
     "output_type": "stream",
     "text": [
      "Post talking about harry\n"
     ]
    }
   ],
   "source": [
    "post = 'Hey my name is harry. Today i am here to teach you coding.'\n",
    "\n",
    "if ('Harry'.lower() in post.lower() ):\n",
    "    print('Post talking about harry')\n",
    "else:\n",
    "    print('Post not talking about harry')"
   ]
  },
  {
   "cell_type": "code",
   "execution_count": null,
   "id": "7bb871c9-4f51-43c0-8e0b-5ceccf6210cc",
   "metadata": {},
   "outputs": [],
   "source": []
  }
 ],
 "metadata": {
  "kernelspec": {
   "display_name": "Python 3 (ipykernel)",
   "language": "python",
   "name": "python3"
  },
  "language_info": {
   "codemirror_mode": {
    "name": "ipython",
    "version": 3
   },
   "file_extension": ".py",
   "mimetype": "text/x-python",
   "name": "python",
   "nbconvert_exporter": "python",
   "pygments_lexer": "ipython3",
   "version": "3.12.4"
  }
 },
 "nbformat": 4,
 "nbformat_minor": 5
}
