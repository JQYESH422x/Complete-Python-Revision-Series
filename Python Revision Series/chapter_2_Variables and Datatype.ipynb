{
 "cells": [
  {
   "cell_type": "markdown",
   "id": "afe8c492-b2f4-48ff-b1b6-8da285097ae3",
   "metadata": {},
   "source": [
    "1. Write a python program to add two numbers.\n",
    "2. Write a python program to find remainder when a number is divided by z.\n",
    "3. Check the type of variable assigned using input () function.\n",
    "4. Use comparison operator to find out whether ‘a’ given variable a is greater than\n",
    "‘b’ or not. Take a = 34 and b = 80\n",
    "5. Write a python program to find an average of two numbers entered by the user.\n",
    "6. Write a python program to calculate the square of a number entered by the user."
   ]
  },
  {
   "cell_type": "code",
   "execution_count": 2,
   "id": "1f9aefd7-e7bb-4e7f-8d2d-79670e64f35b",
   "metadata": {},
   "outputs": [
    {
     "name": "stdout",
     "output_type": "stream",
     "text": [
      "3\n"
     ]
    }
   ],
   "source": [
    "# 1.\n",
    "\n",
    "a = 1\n",
    "b = 2\n",
    "print(a+b)"
   ]
  },
  {
   "cell_type": "code",
   "execution_count": 4,
   "id": "9c19d7e1-6e56-46f9-87b9-583b9a86228b",
   "metadata": {},
   "outputs": [
    {
     "name": "stdout",
     "output_type": "stream",
     "text": [
      "Remainder is :  1\n"
     ]
    }
   ],
   "source": [
    "# 2\n",
    "\n",
    "a=5\n",
    "b=2\n",
    "print('Remainder is : ',a%b)"
   ]
  },
  {
   "cell_type": "code",
   "execution_count": 6,
   "id": "26904938-0890-4e8a-8d91-f61b65a4194a",
   "metadata": {},
   "outputs": [
    {
     "name": "stdin",
     "output_type": "stream",
     "text": [
      "Enter anything : 2\n"
     ]
    },
    {
     "name": "stdout",
     "output_type": "stream",
     "text": [
      "Type of a is :  <class 'str'>\n"
     ]
    }
   ],
   "source": [
    "# 3\n",
    "a = input('Enter anything :') #always str\n",
    "print('Type of a is : ',type(a))"
   ]
  },
  {
   "cell_type": "code",
   "execution_count": 9,
   "id": "3d4457eb-7f30-452f-8742-cdc53d4aac70",
   "metadata": {},
   "outputs": [
    {
     "name": "stdin",
     "output_type": "stream",
     "text": [
      "Input number a :  12\n",
      "Input number b :  22\n"
     ]
    },
    {
     "name": "stdout",
     "output_type": "stream",
     "text": [
      "a is greater than b :  False\n"
     ]
    }
   ],
   "source": [
    "# 4\n",
    "a = int(input('Input number a : '))\n",
    "b = int(input('Input number b : '))\n",
    "print('a is greater than b : ', a>b)"
   ]
  },
  {
   "cell_type": "code",
   "execution_count": 11,
   "id": "2463f818-4c74-4cc0-8983-92602d95ce70",
   "metadata": {},
   "outputs": [
    {
     "name": "stdin",
     "output_type": "stream",
     "text": [
      "Input number a :  13\n",
      "Input number b :  2\n"
     ]
    },
    {
     "name": "stdout",
     "output_type": "stream",
     "text": [
      "Average :  7.5\n"
     ]
    }
   ],
   "source": [
    "# 5\n",
    "a = int(input('Input number a : '))\n",
    "b = int(input('Input number b : '))\n",
    "\n",
    "print('Average : ',(a+b)/2)"
   ]
  },
  {
   "cell_type": "code",
   "execution_count": 12,
   "id": "f26155e0-2e1a-4e9a-b3b9-7bcb63252466",
   "metadata": {},
   "outputs": [
    {
     "name": "stdin",
     "output_type": "stream",
     "text": [
      "Input number a :  22\n"
     ]
    },
    {
     "name": "stdout",
     "output_type": "stream",
     "text": [
      "square : 484\n"
     ]
    }
   ],
   "source": [
    "# 6\n",
    "a = int(input('Input number a : '))\n",
    "\n",
    "print(\"square :\",a**2)"
   ]
  },
  {
   "cell_type": "code",
   "execution_count": null,
   "id": "de3ca220-ea01-41e3-8cd7-804cb0565d5f",
   "metadata": {},
   "outputs": [],
   "source": []
  }
 ],
 "metadata": {
  "kernelspec": {
   "display_name": "Python 3 (ipykernel)",
   "language": "python",
   "name": "python3"
  },
  "language_info": {
   "codemirror_mode": {
    "name": "ipython",
    "version": 3
   },
   "file_extension": ".py",
   "mimetype": "text/x-python",
   "name": "python",
   "nbconvert_exporter": "python",
   "pygments_lexer": "ipython3",
   "version": "3.12.4"
  }
 },
 "nbformat": 4,
 "nbformat_minor": 5
}
