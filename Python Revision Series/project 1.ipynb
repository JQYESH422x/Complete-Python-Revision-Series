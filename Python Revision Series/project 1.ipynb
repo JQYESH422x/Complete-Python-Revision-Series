{
 "cells": [
  {
   "cell_type": "code",
   "execution_count": 10,
   "id": "6358966e-7e0a-4f8c-9804-d620e6e7dd4d",
   "metadata": {},
   "outputs": [
    {
     "name": "stdin",
     "output_type": "stream",
     "text": [
      "Enter your choice :  paper\n"
     ]
    },
    {
     "name": "stdout",
     "output_type": "stream",
     "text": [
      "Your choice : paper\n",
      "computer choice : stone\n",
      "You win\n"
     ]
    }
   ],
   "source": [
    "\"\"\"\n",
    "1 for stone\n",
    "-1 for paper  \n",
    "0 for scissor\n",
    "\"\"\"\n",
    "\n",
    "\n",
    "youstr = input(\"Enter your choice : \")\n",
    "youDict =  {'stone': 1 ,'paper':-1 , 'scissor':0 }\n",
    "you = youDict[youstr]\n",
    "\n",
    "import random\n",
    "computer = random.choice([-1,0,1])\n",
    "reverseDict = {1:'stone',-1:'paper',0:'scissor'}\n",
    "\n",
    "print(f'Your choice : {youstr}\\ncomputer choice : {reverseDict[computer]}')\n",
    "\n",
    "if (computer == you):\n",
    "    print(\"Its a draw!\")\n",
    "else:\n",
    "    if (you == 1 and computer == -1): \n",
    "        print('You lose')\n",
    "    elif (you == 1 and computer == 0): \n",
    "        print('You win')\n",
    "    elif (you == -1 and computer == 1): \n",
    "        print('You win')\n",
    "    elif (you == -1 and computer == 0): \n",
    "        print('You lose')\n",
    "    elif (you == 0 and computer == 1): \n",
    "        print('You lose')\n",
    "    else:\n",
    "        print('You win')"
   ]
  },
  {
   "cell_type": "code",
   "execution_count": null,
   "id": "5a4c9835-4a8a-42e4-9963-4d756bfa8c53",
   "metadata": {},
   "outputs": [],
   "source": []
  }
 ],
 "metadata": {
  "kernelspec": {
   "display_name": "Python 3 (ipykernel)",
   "language": "python",
   "name": "python3"
  },
  "language_info": {
   "codemirror_mode": {
    "name": "ipython",
    "version": 3
   },
   "file_extension": ".py",
   "mimetype": "text/x-python",
   "name": "python",
   "nbconvert_exporter": "python",
   "pygments_lexer": "ipython3",
   "version": "3.12.4"
  }
 },
 "nbformat": 4,
 "nbformat_minor": 5
}
