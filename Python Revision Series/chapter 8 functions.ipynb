{
 "cells": [
  {
   "cell_type": "markdown",
   "id": "abb63210-2022-4b42-b2cc-738002274064",
   "metadata": {},
   "source": [
    "### function defination"
   ]
  },
  {
   "cell_type": "code",
   "execution_count": 2,
   "id": "d1b5566f-cdf2-4cb8-b183-59ac20ff74ae",
   "metadata": {},
   "outputs": [],
   "source": [
    "\n",
    "def average():\n",
    "    a=int(input('Enter any number'))\n",
    "    b=int(input('Enter any number'))\n",
    "    c=int(input('Enter any number'))\n",
    "\n",
    "    avg=(a+b+c)/3\n",
    "    print(avg)"
   ]
  },
  {
   "cell_type": "markdown",
   "id": "a95c2875-d245-4908-a2ac-cf6d70ff6959",
   "metadata": {},
   "source": [
    "### function defination"
   ]
  },
  {
   "cell_type": "code",
   "execution_count": 3,
   "id": "c142c75c-e316-4353-bb6c-9a59449917a9",
   "metadata": {},
   "outputs": [
    {
     "name": "stdin",
     "output_type": "stream",
     "text": [
      "Enter any number 22\n",
      "Enter any number 23\n",
      "Enter any number 23\n"
     ]
    },
    {
     "name": "stdout",
     "output_type": "stream",
     "text": [
      "22.666666666666668\n"
     ]
    }
   ],
   "source": [
    "average()"
   ]
  },
  {
   "cell_type": "code",
   "execution_count": 4,
   "id": "43a87603-7172-4727-8e07-904978582b91",
   "metadata": {},
   "outputs": [
    {
     "name": "stdin",
     "output_type": "stream",
     "text": [
      "Enter any number 23\n",
      "Enter any number 32\n",
      "Enter any number 44\n"
     ]
    },
    {
     "name": "stdout",
     "output_type": "stream",
     "text": [
      "33.0\n",
      "None\n"
     ]
    }
   ],
   "source": [
    "a=average()\n",
    "print(a)"
   ]
  },
  {
   "cell_type": "code",
   "execution_count": 5,
   "id": "9d1b173e-fd04-4493-b6b2-92d7665f0ea5",
   "metadata": {},
   "outputs": [],
   "source": [
    "def average():\n",
    "    a=int(input('Enter any number'))\n",
    "    b=int(input('Enter any number'))\n",
    "    c=int(input('Enter any number'))\n",
    "\n",
    "    avg=(a+b+c)/3\n",
    "    return avg"
   ]
  },
  {
   "cell_type": "code",
   "execution_count": 6,
   "id": "195ef087-a99b-483c-9792-5634cdaded98",
   "metadata": {},
   "outputs": [
    {
     "name": "stdin",
     "output_type": "stream",
     "text": [
      "Enter any number 34\n",
      "Enter any number 54\n",
      "Enter any number 32\n"
     ]
    },
    {
     "name": "stdout",
     "output_type": "stream",
     "text": [
      "40.0\n"
     ]
    }
   ],
   "source": [
    "a=average()\n",
    "print(a)"
   ]
  },
  {
   "cell_type": "markdown",
   "id": "849a78b5-b31a-477c-8950-2d9e4b462e09",
   "metadata": {},
   "source": [
    "### FUNCTIONS WITH ARGUMENTS"
   ]
  },
  {
   "cell_type": "code",
   "execution_count": 11,
   "id": "175be993-648e-48fa-8039-4b0bf6817464",
   "metadata": {},
   "outputs": [],
   "source": [
    "def greet(name):\n",
    "    print('Good Day! , '+name)"
   ]
  },
  {
   "cell_type": "code",
   "execution_count": 12,
   "id": "241730af-bcd6-4557-9f21-15678e007833",
   "metadata": {},
   "outputs": [
    {
     "name": "stdout",
     "output_type": "stream",
     "text": [
      "Good Day! , jayesh\n"
     ]
    }
   ],
   "source": [
    "greet('jayesh')"
   ]
  },
  {
   "cell_type": "markdown",
   "id": "d6d69758-72cb-44cd-af04-b46c6c00cfb9",
   "metadata": {},
   "source": [
    "### DEFAULT PARAMETER VALUE"
   ]
  },
  {
   "cell_type": "code",
   "execution_count": 13,
   "id": "70372e25-5063-41ba-b8a3-65e48dfd8e8e",
   "metadata": {},
   "outputs": [],
   "source": [
    "def greet(name,ending='Thank You'):\n",
    "    print('Good Day! , '+name)\n",
    "    print(ending)"
   ]
  },
  {
   "cell_type": "code",
   "execution_count": 14,
   "id": "77694171-c84f-4c57-b2fb-58bb47ee204f",
   "metadata": {},
   "outputs": [
    {
     "name": "stdout",
     "output_type": "stream",
     "text": [
      "Good Day! , Jayesh\n",
      "Thank You\n"
     ]
    }
   ],
   "source": [
    "greet('Jayesh')"
   ]
  },
  {
   "cell_type": "code",
   "execution_count": 16,
   "id": "88f5b35f-808a-4010-832a-382529260e3f",
   "metadata": {},
   "outputs": [
    {
     "name": "stdout",
     "output_type": "stream",
     "text": [
      "Good Day! , Jayesh\n",
      "bye\n"
     ]
    }
   ],
   "source": [
    "greet('Jayesh', 'bye')"
   ]
  },
  {
   "cell_type": "markdown",
   "id": "341907e9-f238-4607-b693-e28da66b9700",
   "metadata": {},
   "source": [
    "### RECURSION\n",
    "\n",
    "Recursion is a function which calls itself.\n",
    "\n",
    "It is used to directly use a mathematical formula as function.\n",
    "\n",
    "Recursion is sometimes the most \n",
    "direct way to code an algorithm."
   ]
  },
  {
   "cell_type": "code",
   "execution_count": 24,
   "id": "adc36b9b-2ca1-4835-9cc3-882a99495133",
   "metadata": {},
   "outputs": [],
   "source": [
    "'''\n",
    "factoial(1) = 1\n",
    "factoial(2) = 2*1\n",
    "factoial(3) = 3*2*1\n",
    "factoial(4) = 4*3*2*1\n",
    "factoial(5) = 5*4*3*2*1\n",
    "\n",
    "factorial(n) = n*n-1 ....3*2*1\n",
    "factorial(n) = n*factorial(n-1)\n",
    "'''\n",
    "\n",
    "def fact(n):\n",
    "    if (n==1 or n==0):\n",
    "        return 1\n",
    "    return n * fact(n-1)"
   ]
  },
  {
   "cell_type": "code",
   "execution_count": 29,
   "id": "9a98d635-5506-4885-a8a5-4ad660cc057c",
   "metadata": {},
   "outputs": [
    {
     "name": "stdin",
     "output_type": "stream",
     "text": [
      "Enter any number :  3\n"
     ]
    },
    {
     "name": "stdout",
     "output_type": "stream",
     "text": [
      "6\n"
     ]
    }
   ],
   "source": [
    "n=int(input(\"Enter any number : \"))\n",
    "print(fact(n))"
   ]
  },
  {
   "cell_type": "markdown",
   "id": "fbc458eb-1434-4e6a-a31e-0b9989d355c5",
   "metadata": {},
   "source": [
    "### Write a program using functions to find greatest of three numbers."
   ]
  },
  {
   "cell_type": "code",
   "execution_count": 44,
   "id": "0558bf06-11b7-4080-85af-e7c365909356",
   "metadata": {},
   "outputs": [],
   "source": [
    "def gretest():\n",
    "    l1=[]\n",
    "    l1.append(int(input(\"Enter any number : \")))\n",
    "    l1.append(int(input(\"Enter any number : \")))\n",
    "    l1.append(int(input(\"Enter any number : \")))\n",
    "    l1.sort()\n",
    "    return l1[-1]\n",
    "\n",
    "    "
   ]
  },
  {
   "cell_type": "code",
   "execution_count": 45,
   "id": "dab0b3ba-23ab-4b13-92ea-2f2c4d2f8dac",
   "metadata": {},
   "outputs": [
    {
     "name": "stdin",
     "output_type": "stream",
     "text": [
      "Enter any number :  32\n",
      "Enter any number :  12\n",
      "Enter any number :  23\n"
     ]
    },
    {
     "data": {
      "text/plain": [
       "32"
      ]
     },
     "execution_count": 45,
     "metadata": {},
     "output_type": "execute_result"
    }
   ],
   "source": [
    "gretest()"
   ]
  },
  {
   "cell_type": "markdown",
   "id": "65422bc0-9706-4b36-bdda-b163ce1d6850",
   "metadata": {},
   "source": [
    "### Write a python program using function to convert Celsius to Fahrenheit."
   ]
  },
  {
   "attachments": {
    "0b1013e3-6261-4b21-874f-8cd1a2dbce84.png": {
     "image/png": "[encoded data removed]"
    }
   },
   "cell_type": "markdown",
   "id": "c6751e51-4d8e-4db9-bdcc-cbc8b6be2916",
   "metadata": {},
   "source": [
    "![image.png](attachment:0b1013e3-6261-4b21-874f-8cd1a2dbce84.png)"
   ]
  },
  {
   "cell_type": "code",
   "execution_count": 46,
   "id": "a8b0d8e1-ea1e-42f2-9dbe-0e1eeb2de3b0",
   "metadata": {},
   "outputs": [
    {
     "name": "stdout",
     "output_type": "stream",
     "text": [
      "6.666666666666666\n"
     ]
    }
   ],
   "source": [
    "F=44\n",
    "c = 5*((F-32)/9)\n",
    "print(c)"
   ]
  },
  {
   "cell_type": "code",
   "execution_count": 50,
   "id": "ab798d7b-6006-40d4-a003-72d237faf940",
   "metadata": {},
   "outputs": [],
   "source": [
    "def f_to_c(f):\n",
    "    c = 5*((f-32)/9)\n",
    "    return c"
   ]
  },
  {
   "cell_type": "code",
   "execution_count": 51,
   "id": "7a1ab824-0093-4c27-8638-343d904c434a",
   "metadata": {},
   "outputs": [
    {
     "data": {
      "text/plain": [
       "62.22222222222222"
      ]
     },
     "execution_count": 51,
     "metadata": {},
     "output_type": "execute_result"
    }
   ],
   "source": [
    "f_to_c(144)"
   ]
  },
  {
   "cell_type": "markdown",
   "id": "6a337024-604c-4f73-8576-9d3e170571c2",
   "metadata": {},
   "source": [
    "### How do you prevent a python print() function to print a new line at the end."
   ]
  },
  {
   "cell_type": "code",
   "execution_count": 52,
   "id": "0e1ac3ac-3820-4ea8-a062-32fc748388b8",
   "metadata": {},
   "outputs": [
    {
     "name": "stdout",
     "output_type": "stream",
     "text": [
      "a\n",
      "b\n",
      "cd"
     ]
    }
   ],
   "source": [
    "print('a')\n",
    "print('b')\n",
    "print('c',end='')\n",
    "print('d',end='')"
   ]
  },
  {
   "cell_type": "markdown",
   "id": "5eed7b06-471f-4481-9c95-4df597074f8c",
   "metadata": {},
   "source": [
    " ### Write a recursive function to calculate the sum of first n natural numbers."
   ]
  },
  {
   "cell_type": "code",
   "execution_count": 54,
   "id": "3b92d19a-e881-4247-830b-0893ac15acc9",
   "metadata": {},
   "outputs": [],
   "source": [
    "'''\n",
    "\n",
    "sum(1)=1\n",
    "sum(2)=1*2\n",
    "sum(3)=1*2*3\n",
    "sum(4)=1*2*3*4\n",
    "\n",
    "\n",
    "sum(n) = 1+2+3+5 +....+n\n",
    "sum(n)=sum(n-1)+n\n",
    "\n",
    "'''\n",
    "def sum(n):\n",
    "    if (n==1):\n",
    "        return 1\n",
    "    return sum(n-1) + n\n"
   ]
  },
  {
   "cell_type": "code",
   "execution_count": 57,
   "id": "946effff-15d3-4e17-bb00-0674e58e6f59",
   "metadata": {},
   "outputs": [
    {
     "data": {
      "text/plain": [
       "10"
      ]
     },
     "execution_count": 57,
     "metadata": {},
     "output_type": "execute_result"
    }
   ],
   "source": [
    "sum(4)"
   ]
  },
  {
   "cell_type": "markdown",
   "id": "10f31dd6-41ec-4ed0-825b-14ba23a126ac",
   "metadata": {},
   "source": [
    "### Write a python function to print first n lines of the following pattern:\n",
    "    ***\n",
    "    ** - for n = 3\n",
    "    *"
   ]
  },
  {
   "cell_type": "code",
   "execution_count": 60,
   "id": "74e1d625-7422-4089-8c66-556acb3cd76a",
   "metadata": {},
   "outputs": [],
   "source": [
    "def pattern(n):\n",
    "    for i in range(n,0,-1):\n",
    "        print('*'*i)"
   ]
  },
  {
   "cell_type": "code",
   "execution_count": 61,
   "id": "a5fd5255-f10e-4556-9cda-9417a1b0735f",
   "metadata": {},
   "outputs": [
    {
     "name": "stdout",
     "output_type": "stream",
     "text": [
      "***\n",
      "**\n",
      "*\n"
     ]
    }
   ],
   "source": [
    "pattern(3)"
   ]
  },
  {
   "cell_type": "code",
   "execution_count": 62,
   "id": "1b9cd9b6-ea76-4d71-9412-5eab32434963",
   "metadata": {},
   "outputs": [],
   "source": [
    "def pattern(n):\n",
    "    if (n==0):\n",
    "        return\n",
    "    print('*'*i)\n",
    "    pattern(n-1)"
   ]
  },
  {
   "cell_type": "markdown",
   "id": "df3db696-7f38-4696-bee9-f5f6278ca3b2",
   "metadata": {},
   "source": [
    "### Write a python function which converts inches to cms."
   ]
  },
  {
   "cell_type": "code",
   "execution_count": 64,
   "id": "752a7561-b624-4ddc-b435-1daadb83253d",
   "metadata": {},
   "outputs": [],
   "source": [
    "def inch_to_cms(inch):\n",
    "    return inch*2.54"
   ]
  },
  {
   "cell_type": "code",
   "execution_count": 65,
   "id": "a7a4c001-902d-4183-957d-00585cdd14ff",
   "metadata": {},
   "outputs": [
    {
     "data": {
      "text/plain": [
       "7.62"
      ]
     },
     "execution_count": 65,
     "metadata": {},
     "output_type": "execute_result"
    }
   ],
   "source": [
    "inch_to_cms(3)"
   ]
  },
  {
   "cell_type": "markdown",
   "id": "87cd70e6-ed0f-4ec5-9d82-993737440340",
   "metadata": {},
   "source": [
    "### Write a python function to remove a given word from a list and strip it at the same time."
   ]
  },
  {
   "cell_type": "code",
   "execution_count": 69,
   "id": "207617e7-e609-4c52-a117-9348f5af2d46",
   "metadata": {},
   "outputs": [],
   "source": [
    "def rem(l,word):\n",
    "    n=[]\n",
    "    for item in l:\n",
    "        if not (item == word):\n",
    "            n.append(item.strip(word))\n",
    "    return n"
   ]
  },
  {
   "cell_type": "code",
   "execution_count": 70,
   "id": "325b7cb9-ee58-440b-8835-1d3653b38b8f",
   "metadata": {},
   "outputs": [
    {
     "data": {
      "text/plain": [
       "['Jayesh', 'Ram', 'Cham', 'Chinu']"
      ]
     },
     "execution_count": 70,
     "metadata": {},
     "output_type": "execute_result"
    }
   ],
   "source": [
    "l1 = ['Jayesh','Raman','Chaman','Chinu','an']\n",
    "word='an'\n",
    "rem(l1,word)"
   ]
  },
  {
   "cell_type": "markdown",
   "id": "d3585239-728f-452a-bb6a-843ca8dfa849",
   "metadata": {},
   "source": [
    "### Write a python function to print multiplication table of a given number."
   ]
  },
  {
   "cell_type": "code",
   "execution_count": 71,
   "id": "e7e41501-625a-44a5-81e8-5caf8255dff8",
   "metadata": {},
   "outputs": [],
   "source": [
    "def table(n):\n",
    "    for i in range(1,11):\n",
    "        print(f'{n} X {i} = {n * i}')"
   ]
  },
  {
   "cell_type": "code",
   "execution_count": 72,
   "id": "66b647ca-289b-4e34-9296-383cf0bbb9f0",
   "metadata": {},
   "outputs": [
    {
     "name": "stdout",
     "output_type": "stream",
     "text": [
      "3 X 1 = 3\n",
      "3 X 2 = 6\n",
      "3 X 3 = 9\n",
      "3 X 4 = 12\n",
      "3 X 5 = 15\n",
      "3 X 6 = 18\n",
      "3 X 7 = 21\n",
      "3 X 8 = 24\n",
      "3 X 9 = 27\n",
      "3 X 10 = 30\n"
     ]
    }
   ],
   "source": [
    "table(3)"
   ]
  }
 ],
 "metadata": {
  "kernelspec": {
   "display_name": "Python 3 (ipykernel)",
   "language": "python",
   "name": "python3"
  },
  "language_info": {
   "codemirror_mode": {
    "name": "ipython",
    "version": 3
   },
   "file_extension": ".py",
   "mimetype": "text/x-python",
   "name": "python",
   "nbconvert_exporter": "python",
   "pygments_lexer": "ipython3",
   "version": "3.12.4"
  }
 },
 "nbformat": 4,
 "nbformat_minor": 5
}
