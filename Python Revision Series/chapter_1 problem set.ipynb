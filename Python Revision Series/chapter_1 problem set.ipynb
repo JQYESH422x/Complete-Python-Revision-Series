{
 "cells": [
  {
   "cell_type": "code",
   "execution_count": 2,
   "id": "c9575614-4d6a-4d97-b9df-eabef2ea5af1",
   "metadata": {},
   "outputs": [
    {
     "name": "stdout",
     "output_type": "stream",
     "text": [
      "Twinkle, twinkle, little star,\n",
      "How I wonder what you are!\n",
      "Up above the world so high,\n",
      "Like a diamond in the sky.\n",
      "\n",
      "When the blazing sun is gone,\n",
      "When he nothing shines upon,\n",
      "Then you show your little light,\n",
      "Twinkle, twinkle, all the night.\n",
      "\n",
      "Then the traveler in the dark\n",
      "Thanks you for your tiny spark,\n",
      "How could he see where to go,\n",
      "If you did not twinkle so?\n",
      "\n",
      "In the dark blue sky you keep,\n",
      "Often through my curtains peep\n",
      "For you never shut your eye,\n",
      "Till the sun is in the sky.\n",
      "\n",
      "As your bright and tiny spark\n",
      "Lights the traveler in the dark,\n",
      "Though I know not what you are,\n",
      "Twinkle, twinkle, little star.\n",
      "\n"
     ]
    }
   ],
   "source": [
    "# Write a program to print Twinkle twinkle little star poem in python.\n",
    "print('''Twinkle, twinkle, little star,\n",
    "How I wonder what you are!\n",
    "Up above the world so high,\n",
    "Like a diamond in the sky.\n",
    "\n",
    "When the blazing sun is gone,\n",
    "When he nothing shines upon,\n",
    "Then you show your little light,\n",
    "Twinkle, twinkle, all the night.\n",
    "\n",
    "Then the traveler in the dark\n",
    "Thanks you for your tiny spark,\n",
    "How could he see where to go,\n",
    "If you did not twinkle so?\n",
    "\n",
    "In the dark blue sky you keep,\n",
    "Often through my curtains peep\n",
    "For you never shut your eye,\n",
    "Till the sun is in the sky.\n",
    "\n",
    "As your bright and tiny spark\n",
    "Lights the traveler in the dark,\n",
    "Though I know not what you are,\n",
    "Twinkle, twinkle, little star.\n",
    "''')"
   ]
  },
  {
   "cell_type": "code",
   "execution_count": 3,
   "id": "9f0225ee-ee56-4be0-b4e3-97b20cd8b40b",
   "metadata": {},
   "outputs": [
    {
     "name": "stdout",
     "output_type": "stream",
     "text": [
      "Collecting pyttsx3\n",
      "  Downloading pyttsx3-2.91-py3-none-any.whl.metadata (3.8 kB)\n",
      "Collecting comtypes (from pyttsx3)\n",
      "  Downloading comtypes-1.4.7-py3-none-any.whl.metadata (6.5 kB)\n",
      "Collecting pypiwin32 (from pyttsx3)\n",
      "  Downloading pypiwin32-223-py3-none-any.whl.metadata (236 bytes)\n",
      "Requirement already satisfied: pywin32 in c:\\users\\jayes\\anaconda3\\lib\\site-packages (from pyttsx3) (305.1)\n",
      "Downloading pyttsx3-2.91-py3-none-any.whl (33 kB)\n",
      "Downloading comtypes-1.4.7-py3-none-any.whl (226 kB)\n",
      "   ---------------------------------------- 0.0/226.8 kB ? eta -:--:--\n",
      "   -------------- ------------------------- 81.9/226.8 kB 1.5 MB/s eta 0:00:01\n",
      "   ---------------------------------------  225.3/226.8 kB 2.3 MB/s eta 0:00:01\n",
      "   ---------------------------------------- 226.8/226.8 kB 2.0 MB/s eta 0:00:00\n",
      "Downloading pypiwin32-223-py3-none-any.whl (1.7 kB)\n",
      "Installing collected packages: pypiwin32, comtypes, pyttsx3\n",
      "Successfully installed comtypes-1.4.7 pypiwin32-223 pyttsx3-2.91\n",
      "Note: you may need to restart the kernel to use updated packages.\n"
     ]
    }
   ],
   "source": [
    "pip install pyttsx3"
   ]
  },
  {
   "cell_type": "code",
   "execution_count": 8,
   "id": "32b01cdb-5349-4ac3-aa21-ec7bd99b3b24",
   "metadata": {},
   "outputs": [],
   "source": [
    "# 3. Install an external module and use it to perform an operation of your interest. \n",
    "import pyttsx3\n",
    "engine = pyttsx3.init()\n",
    "engine.say(\"My name is Jayesh Nikumbh and i am Btech Third Year Student!\")\n",
    "engine.runAndWait()"
   ]
  },
  {
   "cell_type": "code",
   "execution_count": 12,
   "id": "1d1295e7-04c1-46fb-8103-554460f730d4",
   "metadata": {},
   "outputs": [
    {
     "name": "stdout",
     "output_type": "stream",
     "text": [
      "Contents of 'C:\\Users\\jayes\\Desktop\\Ai_Adventures\\Python\\Python Revision Code with Harry':\n",
      ".ipynb_checkpoints\n",
      "chapter_1.ipynb\n",
      "Untitled.ipynb\n"
     ]
    }
   ],
   "source": [
    "# Write a python program to print the contents of a directory using the os module.\n",
    "# Search online for the function which does that. \n",
    "    \n",
    "import os\n",
    "\n",
    "# Specify the directory you want to list\n",
    "directory = r\"C:\\Users\\jayes\\Desktop\\Ai_Adventures\\Python\\Python Revision Code with Harry\"  # Replace with the actual directory path\n",
    "\n",
    "try:\n",
    "    # List all files and directories in the specified path\n",
    "    contents = os.listdir(directory)\n",
    "    \n",
    "    # Print each item in the directory\n",
    "    print(f\"Contents of '{directory}':\")\n",
    "    for item in contents:\n",
    "        print(item)\n",
    "except FileNotFoundError:\n",
    "    print(f\"The directory '{directory}' does not exist.\")\n",
    "except PermissionError:\n",
    "    print(f\"Permission denied to access '{directory}'.\")\n"
   ]
  },
  {
   "cell_type": "code",
   "execution_count": null,
   "id": "85b65941-fdd0-4e92-8222-96cfc231d733",
   "metadata": {},
   "outputs": [],
   "source": []
  }
 ],
 "metadata": {
  "kernelspec": {
   "display_name": "Python 3 (ipykernel)",
   "language": "python",
   "name": "python3"
  },
  "language_info": {
   "codemirror_mode": {
    "name": "ipython",
    "version": 3
   },
   "file_extension": ".py",
   "mimetype": "text/x-python",
   "name": "python",
   "nbconvert_exporter": "python",
   "pygments_lexer": "ipython3",
   "version": "3.12.4"
  }
 },
 "nbformat": 4,
 "nbformat_minor": 5
}
