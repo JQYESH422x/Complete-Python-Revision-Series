{
 "cells": [
  {
   "cell_type": "markdown",
   "id": "65ac290c-f0ac-4532-88ce-252357b50df4",
   "metadata": {},
   "source": [
    "##### The random-access memory is volatile, and all its contents are lost once a program\n",
    "terminates. In order to persist the data forever, we use files.\n",
    "\n",
    "##### A file is data stored in a storage device. A python program can talk to the file by reading\n",
    "content from it and writing content to it.\n",
    "\n",
    "#### TYPE OF FILES.\n",
    "\r\n",
    "There are 2 types of files:\r\n",
    "1. Text files (.txt, .c, etc)\r\n",
    "2. Binary files (.jpg, .dat, e\n",
    "   tc)\r\n",
    "Python has a lot of functions for reading, updating, and deleting fi\n",
    "\n",
    "les."
   ]
  },
  {
   "cell_type": "markdown",
   "id": "25a8d0c5-183a-41c2-9312-be73aaec5d20",
   "metadata": {},
   "source": [
    "### OPENING A FILE\n",
    "Python has an open() function for opening files. It takes 2 parameters: filename and\n",
    "mode"
   ]
  },
  {
   "cell_type": "code",
   "execution_count": 2,
   "id": "776e7a7f-8bea-436c-af30-ea09ab12a1fa",
   "metadata": {},
   "outputs": [
    {
     "name": "stdout",
     "output_type": "stream",
     "text": [
      "Jayesh is a good boy.\n"
     ]
    }
   ],
   "source": [
    "f = open('file.txt') \n",
    "data=f.read()\n",
    "print(data)\n",
    "f.close() # signals the computer that we have allready accessed the data we want from the file"
   ]
  },
  {
   "cell_type": "markdown",
   "id": "a5d0a2eb-9b9a-46a8-87f0-ef36532c0736",
   "metadata": {},
   "source": [
    "### MODES OF OPENING A FILE\n",
    "\n",
    "1. r – open for reading\n",
    "2. w - open for writing\n",
    "3. a - open for appending\n",
    "4. + - open for updating.\n",
    "5. ‘rb’ will open for read in binary mode.\n",
    "6. ‘rt’ will open for read in text mode."
   ]
  },
  {
   "cell_type": "markdown",
   "id": "8229125b-e156-4994-9de3-fdfd052f50d4",
   "metadata": {},
   "source": [
    "### WRITE FILES IN PYTHON\n",
    "In order to write to a file, we first open it in write or append mode after which, we use\n",
    "the python’s f.write() method to write to the file!"
   ]
  },
  {
   "cell_type": "code",
   "execution_count": 3,
   "id": "73b96245-346e-4202-b0b1-c0fd525a7555",
   "metadata": {},
   "outputs": [],
   "source": [
    "st = 'Welcome to my youtube channel. My name is jayesh and today i am here to teach you data science'\n",
    "f= open('mytext.txt','w')\n",
    "f.write(st)\n",
    "f.close()"
   ]
  },
  {
   "cell_type": "markdown",
   "id": "82681bef-03a9-4ca2-89a8-a690ec057fe1",
   "metadata": {},
   "source": [
    "### different file function"
   ]
  },
  {
   "cell_type": "code",
   "execution_count": 5,
   "id": "af8d78fa-109b-4443-a8e4-989ea0ccf81c",
   "metadata": {},
   "outputs": [
    {
     "name": "stdout",
     "output_type": "stream",
     "text": [
      "['Jayesh is a good boy.\\n', 'Keshavi is naughty.\\n', 'Anurag is very annoying.'] <class 'list'>\n"
     ]
    }
   ],
   "source": [
    "f = open('file.txt')\n",
    "data=f.readlines()\n",
    "f.close()\n",
    "print(data , type(data))"
   ]
  },
  {
   "cell_type": "code",
   "execution_count": 8,
   "id": "aceadc91-3c52-46f0-abbb-6b8e63361a78",
   "metadata": {},
   "outputs": [
    {
     "name": "stdout",
     "output_type": "stream",
     "text": [
      "Jayesh is a good boy.\n",
      " <class 'str'>\n",
      "Keshavi is naughty.\n",
      "\n",
      "Anurag is very annoying.\n"
     ]
    }
   ],
   "source": [
    "f = open('file.txt')\n",
    "line1=f.readline()\n",
    "print(line1,type(line1))\n",
    "line2=f.readline()\n",
    "print(line2)\n",
    "line3=f.readline()\n",
    "print(line3)\n",
    "f.close()\n"
   ]
  },
  {
   "cell_type": "code",
   "execution_count": 11,
   "id": "9f5b35e7-32e0-41da-bf2b-542ab11981bd",
   "metadata": {},
   "outputs": [
    {
     "name": "stdout",
     "output_type": "stream",
     "text": [
      "Jayesh is a good boy.\n",
      "\n",
      "Keshavi is naughty.\n",
      "\n",
      "Anurag is very annoying.\n",
      "\n"
     ]
    }
   ],
   "source": [
    "f = open('file.txt')\n",
    "line=f.readline()\n",
    "while (line != ''):\n",
    "    print(line)\n",
    "    line= f.readline()\n",
    "f.close()\n",
    "print(line)"
   ]
  },
  {
   "cell_type": "code",
   "execution_count": 12,
   "id": "a83ddfe9-aabc-419f-b27d-87f95f9dc7d3",
   "metadata": {},
   "outputs": [],
   "source": [
    "# append \n",
    "st = 'Welcome to my youtube channel. My name is jayesh and today i am here to teach you data science'\n",
    "f= open('mytext.txt','a')\n",
    "f.write(st)\n",
    "f.close()\n"
   ]
  },
  {
   "cell_type": "markdown",
   "id": "346353d1-fd82-47a1-80ca-80dd061c0369",
   "metadata": {},
   "source": [
    "### with statement"
   ]
  },
  {
   "cell_type": "code",
   "execution_count": 13,
   "id": "4a494275-c8ac-4027-9cc7-64572356b30c",
   "metadata": {},
   "outputs": [
    {
     "name": "stdout",
     "output_type": "stream",
     "text": [
      "Jayesh is a good boy.\n",
      "Keshavi is naughty.\n",
      "Anurag is very annoying.\n"
     ]
    }
   ],
   "source": [
    "# f = open('file.txt') \n",
    "# data=f.read()\n",
    "# print(data)\n",
    "# f.close()\n",
    "\n",
    "with open('file.txt') as f:\n",
    "    print(f.read())"
   ]
  },
  {
   "cell_type": "markdown",
   "id": "00cd30d8-2db2-40ff-8020-77030d224f9b",
   "metadata": {},
   "source": [
    "### Write a program to read the text from a given file ‘poems.txt’ and find out whether it contains the word ‘twinkle’."
   ]
  },
  {
   "cell_type": "code",
   "execution_count": 18,
   "id": "2ac92bac-81f3-4c03-97af-d4a5b11319be",
   "metadata": {},
   "outputs": [
    {
     "name": "stdout",
     "output_type": "stream",
     "text": [
      "Twinkle, twinkle, little star,\n",
      "How I wonder what you are!\n",
      "Up above the world so high,\n",
      "Like a diamond in the sky.\n",
      "\n",
      "When the blazing sun is gone,\n",
      "When he nothing shines upon,\n",
      "Then you show your little light,\n",
      "Twinkle, twinkle, all the night.\n"
     ]
    }
   ],
   "source": [
    "with open('poem.txt') as f :\n",
    "    data = f.read()\n",
    "print(data)"
   ]
  },
  {
   "cell_type": "code",
   "execution_count": 20,
   "id": "97f7ef48-5e12-4a65-b080-d162b5a8b090",
   "metadata": {},
   "outputs": [
    {
     "name": "stdout",
     "output_type": "stream",
     "text": [
      "Twinkle present in data\n"
     ]
    }
   ],
   "source": [
    "if ('twinkle' in data.lower() ):\n",
    "    print('Twinkle present in data')\n",
    "else:\n",
    "    print('twinkle not present in data')"
   ]
  },
  {
   "cell_type": "markdown",
   "id": "78465915-0739-42bf-81ea-ed505bcbfd2c",
   "metadata": {},
   "source": [
    "### The game() function in a program lets a user play a game and returns the score as an integer. You need to read a file ‘Hi-score.txt’ which is either blank or contains the previous Hi-score. You need to write a program to update the Hiscore whenever the game() function breaks the Hi-score.\n"
   ]
  },
  {
   "cell_type": "code",
   "execution_count": 28,
   "id": "7e9ab874-d44d-456d-85e7-ee2497d00bf3",
   "metadata": {},
   "outputs": [],
   "source": [
    "import random \n",
    "def game ():\n",
    "    print('You are playing game!')\n",
    "    score = random.randint(1,62)\n",
    "    print(f'your score is {score} ')\n",
    "    \n",
    "    #fetch the highscore :\n",
    "    with open('hiscore.txt') as f:\n",
    "        hiscore = f.read()\n",
    "        if hiscore !='':\n",
    "            hiscore = int(hiscore)\n",
    "        else:\n",
    "            hiscore = 0\n",
    "            \n",
    "    if (score > hiscore):\n",
    "        \n",
    "        #write this score in file \n",
    "        with open('hiscore.txt','w') as f :\n",
    "            f.write(str(score))\n",
    "            \n",
    "        return score "
   ]
  },
  {
   "cell_type": "code",
   "execution_count": 31,
   "id": "c177049f-60ff-4317-bb27-e6bc01164a7d",
   "metadata": {},
   "outputs": [
    {
     "name": "stdout",
     "output_type": "stream",
     "text": [
      "You are playing game!\n",
      "your score is 12 \n"
     ]
    }
   ],
   "source": [
    "game()"
   ]
  },
  {
   "cell_type": "markdown",
   "id": "fb2c3fe5-79da-4a06-84cc-9846bbb99ab2",
   "metadata": {},
   "source": [
    "### Write a program to generate multiplication tables from 2 to 20 and write it to the different files. Place these files in a folder for a 13 – year old."
   ]
  },
  {
   "cell_type": "code",
   "execution_count": 36,
   "id": "fd21da48-1ab0-4caa-aeea-1f83b835ce14",
   "metadata": {},
   "outputs": [],
   "source": [
    "for i in range(2,21):\n",
    "    for j in range(1,11):\n",
    "        with open('tables.txt', 'a' ) as f :\n",
    "            f.write(f'{i} X {j} = {i*j}\\n')"
   ]
  },
  {
   "cell_type": "code",
   "execution_count": 37,
   "id": "22fcc377-dc15-4fab-90b3-4456097d9e7d",
   "metadata": {},
   "outputs": [],
   "source": [
    "def generate_table(n):\n",
    "    table=''\n",
    "    for i in range(1,11):\n",
    "        table += f'{n} X {i} = {n*i}\\n'\n",
    "        \n",
    "    with open(f'tables/table_{n}.txt','w') as f:\n",
    "        f.write(table)\n",
    "    \n",
    "\n",
    "for n in range(2,21):\n",
    "    generate_table(n)"
   ]
  },
  {
   "cell_type": "markdown",
   "id": "62b6555e-a41b-4479-935b-da67820e4c43",
   "metadata": {},
   "source": [
    "### A file contains a word “Donkey” multiple times. You need to write a program which replace this word with ##### by updating the same file. "
   ]
  },
  {
   "cell_type": "code",
   "execution_count": 3,
   "id": "ed597709-105f-4d03-ba74-56430e1fcca3",
   "metadata": {},
   "outputs": [],
   "source": [
    "with open('donkey.txt','r') as f:\n",
    "    content=f.read()\n",
    "\n",
    "new_content = content.replace('Donkey' , '#####')\n",
    "\n",
    "with open('donkey.txt','w') as f:\n",
    "    content=f.write(new_content)"
   ]
  },
  {
   "cell_type": "markdown",
   "id": "872ffa0c-0d28-41c2-8f5d-c36aa9af53db",
   "metadata": {},
   "source": [
    "### Repeat program 4 for a list of such words to be censored."
   ]
  },
  {
   "cell_type": "code",
   "execution_count": 5,
   "id": "891f27f0-ceb0-4845-8364-ea0173269a87",
   "metadata": {},
   "outputs": [],
   "source": [
    "words=['ganda','pareshan','Donkey']\n",
    "\n",
    "with open('donkey.txt','r') as f:\n",
    "    content=f.read()\n",
    "\n",
    "for word in words:\n",
    "    content = content.replace(word , '#'*len(word))\n",
    "\n",
    "with open('donkey.txt','w') as f:\n",
    "    content=f.write(content)"
   ]
  },
  {
   "cell_type": "markdown",
   "id": "c1248eeb-f7ac-4539-ab50-93871851329b",
   "metadata": {},
   "source": [
    "### Write a program to mine a log file and find out whether it contains ‘python’."
   ]
  },
  {
   "cell_type": "code",
   "execution_count": 4,
   "id": "816d06d3-b9c3-4618-90d2-0ed794cfbe4c",
   "metadata": {},
   "outputs": [
    {
     "name": "stdout",
     "output_type": "stream",
     "text": [
      "Yes python is present \n"
     ]
    }
   ],
   "source": [
    "with open('log.txt','r') as f :\n",
    "    data=f.read()\n",
    "if 'python' in data:\n",
    "    print('Yes python is present ')\n",
    "else:\n",
    "    print('No python is not present')"
   ]
  },
  {
   "cell_type": "markdown",
   "id": "6fc81ab7-b591-432d-b73e-0210e9dd3102",
   "metadata": {},
   "source": [
    "### Write a program to find out the line number where python is present from ques 6."
   ]
  },
  {
   "cell_type": "code",
   "execution_count": 9,
   "id": "798acdef-e828-45f6-9b54-a0751e95423e",
   "metadata": {},
   "outputs": [
    {
     "name": "stdout",
     "output_type": "stream",
     "text": [
      "Yes python is present at line  1\n",
      "Yes python is present at line  2\n"
     ]
    }
   ],
   "source": [
    "with open('log.txt','r') as f :\n",
    "    data=f.readlines()\n",
    "for line in data:\n",
    "    if 'python' in line:\n",
    "        print('Yes python is present at line ',data.index(line))"
   ]
  },
  {
   "cell_type": "code",
   "execution_count": 7,
   "id": "2a31410c-59e3-4b52-a9da-3575584bcb49",
   "metadata": {},
   "outputs": [
    {
     "data": {
      "text/plain": [
       "0"
      ]
     },
     "execution_count": 7,
     "metadata": {},
     "output_type": "execute_result"
    }
   ],
   "source": [
    "l=['jayesh','chinu']\n",
    "l.index('jayesh')"
   ]
  },
  {
   "cell_type": "markdown",
   "id": "5135268b-50df-40f0-80ec-24f10665f5d1",
   "metadata": {},
   "source": [
    "### Write a program to make a copy of a text file “this. txt”"
   ]
  },
  {
   "cell_type": "code",
   "execution_count": 10,
   "id": "84888fd1-4380-4548-9e40-edfad761fbab",
   "metadata": {},
   "outputs": [],
   "source": [
    "with open('t_file.txt','r') as f :\n",
    "    data=f.read()\n",
    "with open('t_file_copy.txt','w') as f:\n",
    "    f.write(data)"
   ]
  },
  {
   "cell_type": "markdown",
   "id": "81aa79fe-7b07-4602-990d-979913959a74",
   "metadata": {},
   "source": [
    "### Write a program to find out whether a file is identical & matches the content of another file."
   ]
  },
  {
   "cell_type": "code",
   "execution_count": 1,
   "id": "ba2a9ab9-d3c2-453b-b021-c00951db3137",
   "metadata": {},
   "outputs": [
    {
     "name": "stdout",
     "output_type": "stream",
     "text": [
      "Contents of both the file are same\n"
     ]
    }
   ],
   "source": [
    "with open('t_file.txt','r') as f :\n",
    "    data1=f.read()\n",
    "    \n",
    "with open('log.txt','r') as f :\n",
    "    data2=f.read()\n",
    "\n",
    "if (data1 == data2):\n",
    "    print('Contents of both the file are same')\n",
    "else:\n",
    "    print(\"Contents of both the files are different\")"
   ]
  },
  {
   "cell_type": "markdown",
   "id": "922dc2f6-fcf9-4371-98ec-6ba85b87a431",
   "metadata": {},
   "source": [
    "### Write a program to wipe out the content of a file using python."
   ]
  },
  {
   "cell_type": "code",
   "execution_count": 2,
   "id": "a32cbb40-4b20-4fb2-b61c-bec57ab3ec6d",
   "metadata": {},
   "outputs": [],
   "source": [
    "with open('tables.txt','w') as f :\n",
    "    f.write('')"
   ]
  },
  {
   "cell_type": "markdown",
   "id": "42be7ced-5482-4b50-b4c7-768ae9c94add",
   "metadata": {},
   "source": [
    "### Write a python program to rename a file to “renamed_by_ python.txt."
   ]
  },
  {
   "cell_type": "code",
   "execution_count": 3,
   "id": "c1a88c5a-cc11-4135-a135-9c5d5d22ac49",
   "metadata": {},
   "outputs": [],
   "source": [
    "with open('old.txt','r') as f :\n",
    "    data=f.read()\n",
    "with open('rename_by_python.txt','w') as f :\n",
    "    f.write(data)\n"
   ]
  },
  {
   "cell_type": "code",
   "execution_count": null,
   "id": "2862eaa4-4f57-4f49-a30b-2eff5ede52b2",
   "metadata": {},
   "outputs": [],
   "source": []
  }
 ],
 "metadata": {
  "kernelspec": {
   "display_name": "Python 3 (ipykernel)",
   "language": "python",
   "name": "python3"
  },
  "language_info": {
   "codemirror_mode": {
    "name": "ipython",
    "version": 3
   },
   "file_extension": ".py",
   "mimetype": "text/x-python",
   "name": "python",
   "nbconvert_exporter": "python",
   "pygments_lexer": "ipython3",
   "version": "3.12.4"
  }
 },
 "nbformat": 4,
 "nbformat_minor": 5
}
